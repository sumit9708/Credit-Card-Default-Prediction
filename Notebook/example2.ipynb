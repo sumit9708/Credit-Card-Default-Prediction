{
 "cells": [
  {
   "cell_type": "code",
   "execution_count": 1,
   "metadata": {},
   "outputs": [],
   "source": [
    "import os"
   ]
  },
  {
   "cell_type": "code",
   "execution_count": 2,
   "metadata": {},
   "outputs": [
    {
     "data": {
      "text/plain": [
       "'d:\\\\ML Projects\\\\Credit-Card-Default-Prediction\\\\Notebook'"
      ]
     },
     "execution_count": 2,
     "metadata": {},
     "output_type": "execute_result"
    }
   ],
   "source": [
    "os.getcwd()"
   ]
  },
  {
   "cell_type": "code",
   "execution_count": 3,
   "metadata": {},
   "outputs": [],
   "source": [
    "os.chdir(\"d:\\\\ML Projects\\\\Credit-Card-Default-Prediction\")"
   ]
  },
  {
   "cell_type": "code",
   "execution_count": 4,
   "metadata": {},
   "outputs": [],
   "source": [
    "from default_prediction.config.configuration import Configuration"
   ]
  },
  {
   "cell_type": "code",
   "execution_count": 5,
   "metadata": {},
   "outputs": [],
   "source": [
    "config = Configuration()"
   ]
  },
  {
   "cell_type": "code",
   "execution_count": 6,
   "metadata": {},
   "outputs": [],
   "source": [
    "data_ingestion_config = config.get_data_ingestion_config()"
   ]
  },
  {
   "cell_type": "code",
   "execution_count": 7,
   "metadata": {},
   "outputs": [],
   "source": [
    "data_download_url = data_ingestion_config.data_download_url\n",
    "raw_data_dir = data_ingestion_config.raw_data_dir\n",
    "csv_download_dir = data_ingestion_config.csv_download_dir\n",
    "ingested_train_dir = data_ingestion_config.ingested_train_dir\n",
    "ingested_test_dir = data_ingestion_config.ingested_test_dir"
   ]
  },
  {
   "cell_type": "code",
   "execution_count": 8,
   "metadata": {},
   "outputs": [
    {
     "data": {
      "text/plain": [
       "'https://raw.githubusercontent.com/sumit9708/credit_card_dataset/main/cs-training.csv'"
      ]
     },
     "execution_count": 8,
     "metadata": {},
     "output_type": "execute_result"
    }
   ],
   "source": [
    "data_download_url"
   ]
  },
  {
   "cell_type": "code",
   "execution_count": 9,
   "metadata": {},
   "outputs": [
    {
     "data": {
      "text/plain": [
       "'d:\\\\ML Projects\\\\Credit-Card-Default-Prediction\\\\default_prediction\\\\artifact\\\\data_ingestion\\\\2022-07-30-11-31-19\\\\raw_data'"
      ]
     },
     "execution_count": 9,
     "metadata": {},
     "output_type": "execute_result"
    }
   ],
   "source": [
    "raw_data_dir"
   ]
  },
  {
   "cell_type": "code",
   "execution_count": 10,
   "metadata": {},
   "outputs": [
    {
     "data": {
      "text/plain": [
       "'d:\\\\ML Projects\\\\Credit-Card-Default-Prediction\\\\default_prediction\\\\artifact\\\\data_ingestion\\\\2022-07-30-11-31-19\\\\csv_data'"
      ]
     },
     "execution_count": 10,
     "metadata": {},
     "output_type": "execute_result"
    }
   ],
   "source": [
    "csv_download_dir"
   ]
  },
  {
   "cell_type": "code",
   "execution_count": 11,
   "metadata": {},
   "outputs": [],
   "source": [
    "if os.path.exists(csv_download_dir):\n",
    "    os.remove(csv_download_dir)\n",
    "\n",
    "os.makedirs(csv_download_dir,exist_ok=True)\n"
   ]
  },
  {
   "cell_type": "code",
   "execution_count": 12,
   "metadata": {},
   "outputs": [],
   "source": [
    "housing_file_name = os.path.basename(data_download_url)"
   ]
  },
  {
   "cell_type": "code",
   "execution_count": 13,
   "metadata": {},
   "outputs": [
    {
     "data": {
      "text/plain": [
       "'cs-training.csv'"
      ]
     },
     "execution_count": 13,
     "metadata": {},
     "output_type": "execute_result"
    }
   ],
   "source": [
    "housing_file_name"
   ]
  },
  {
   "cell_type": "code",
   "execution_count": 14,
   "metadata": {},
   "outputs": [],
   "source": [
    "csv_file_path = os.path.join(csv_download_dir,housing_file_name)"
   ]
  },
  {
   "cell_type": "code",
   "execution_count": 15,
   "metadata": {},
   "outputs": [
    {
     "data": {
      "text/plain": [
       "'d:\\\\ML Projects\\\\Credit-Card-Default-Prediction\\\\default_prediction\\\\artifact\\\\data_ingestion\\\\2022-07-30-11-31-19\\\\csv_data\\\\cs-training.csv'"
      ]
     },
     "execution_count": 15,
     "metadata": {},
     "output_type": "execute_result"
    }
   ],
   "source": [
    "csv_file_path"
   ]
  },
  {
   "cell_type": "code",
   "execution_count": null,
   "metadata": {},
   "outputs": [],
   "source": []
  },
  {
   "cell_type": "code",
   "execution_count": 16,
   "metadata": {},
   "outputs": [],
   "source": [
    "from six.moves import urllib"
   ]
  },
  {
   "cell_type": "code",
   "execution_count": 17,
   "metadata": {},
   "outputs": [
    {
     "data": {
      "text/plain": [
       "('d:\\\\ML Projects\\\\Credit-Card-Default-Prediction\\\\default_prediction\\\\artifact\\\\data_ingestion\\\\2022-07-30-11-31-19\\\\csv_data\\\\cs-training.csv',\n",
       " <http.client.HTTPMessage at 0x181b7832910>)"
      ]
     },
     "execution_count": 17,
     "metadata": {},
     "output_type": "execute_result"
    }
   ],
   "source": [
    "urllib.request.urlretrieve(data_download_url,csv_file_path)"
   ]
  },
  {
   "cell_type": "code",
   "execution_count": 18,
   "metadata": {},
   "outputs": [],
   "source": [
    "import pandas as pd"
   ]
  },
  {
   "cell_type": "code",
   "execution_count": 19,
   "metadata": {},
   "outputs": [],
   "source": [
    "df = pd.read_csv(csv_file_path)"
   ]
  },
  {
   "cell_type": "code",
   "execution_count": 20,
   "metadata": {},
   "outputs": [
    {
     "data": {
      "text/html": [
       "<div>\n",
       "<style scoped>\n",
       "    .dataframe tbody tr th:only-of-type {\n",
       "        vertical-align: middle;\n",
       "    }\n",
       "\n",
       "    .dataframe tbody tr th {\n",
       "        vertical-align: top;\n",
       "    }\n",
       "\n",
       "    .dataframe thead th {\n",
       "        text-align: right;\n",
       "    }\n",
       "</style>\n",
       "<table border=\"1\" class=\"dataframe\">\n",
       "  <thead>\n",
       "    <tr style=\"text-align: right;\">\n",
       "      <th></th>\n",
       "      <th>Unnamed: 0</th>\n",
       "      <th>SeriousDlqin2yrs</th>\n",
       "      <th>RevolvingUtilizationOfUnsecuredLines</th>\n",
       "      <th>age</th>\n",
       "      <th>NumberOfTime30-59DaysPastDueNotWorse</th>\n",
       "      <th>DebtRatio</th>\n",
       "      <th>MonthlyIncome</th>\n",
       "      <th>NumberOfOpenCreditLinesAndLoans</th>\n",
       "      <th>NumberOfTimes90DaysLate</th>\n",
       "      <th>NumberRealEstateLoansOrLines</th>\n",
       "      <th>NumberOfTime60-89DaysPastDueNotWorse</th>\n",
       "      <th>NumberOfDependents</th>\n",
       "    </tr>\n",
       "  </thead>\n",
       "  <tbody>\n",
       "    <tr>\n",
       "      <th>0</th>\n",
       "      <td>1</td>\n",
       "      <td>1</td>\n",
       "      <td>0.766127</td>\n",
       "      <td>45</td>\n",
       "      <td>2</td>\n",
       "      <td>0.802982</td>\n",
       "      <td>9120.0</td>\n",
       "      <td>13</td>\n",
       "      <td>0</td>\n",
       "      <td>6</td>\n",
       "      <td>0</td>\n",
       "      <td>2.0</td>\n",
       "    </tr>\n",
       "    <tr>\n",
       "      <th>1</th>\n",
       "      <td>2</td>\n",
       "      <td>0</td>\n",
       "      <td>0.957151</td>\n",
       "      <td>40</td>\n",
       "      <td>0</td>\n",
       "      <td>0.121876</td>\n",
       "      <td>2600.0</td>\n",
       "      <td>4</td>\n",
       "      <td>0</td>\n",
       "      <td>0</td>\n",
       "      <td>0</td>\n",
       "      <td>1.0</td>\n",
       "    </tr>\n",
       "    <tr>\n",
       "      <th>2</th>\n",
       "      <td>3</td>\n",
       "      <td>0</td>\n",
       "      <td>0.658180</td>\n",
       "      <td>38</td>\n",
       "      <td>1</td>\n",
       "      <td>0.085113</td>\n",
       "      <td>3042.0</td>\n",
       "      <td>2</td>\n",
       "      <td>1</td>\n",
       "      <td>0</td>\n",
       "      <td>0</td>\n",
       "      <td>0.0</td>\n",
       "    </tr>\n",
       "    <tr>\n",
       "      <th>3</th>\n",
       "      <td>4</td>\n",
       "      <td>0</td>\n",
       "      <td>0.233810</td>\n",
       "      <td>30</td>\n",
       "      <td>0</td>\n",
       "      <td>0.036050</td>\n",
       "      <td>3300.0</td>\n",
       "      <td>5</td>\n",
       "      <td>0</td>\n",
       "      <td>0</td>\n",
       "      <td>0</td>\n",
       "      <td>0.0</td>\n",
       "    </tr>\n",
       "    <tr>\n",
       "      <th>4</th>\n",
       "      <td>5</td>\n",
       "      <td>0</td>\n",
       "      <td>0.907239</td>\n",
       "      <td>49</td>\n",
       "      <td>1</td>\n",
       "      <td>0.024926</td>\n",
       "      <td>63588.0</td>\n",
       "      <td>7</td>\n",
       "      <td>0</td>\n",
       "      <td>1</td>\n",
       "      <td>0</td>\n",
       "      <td>0.0</td>\n",
       "    </tr>\n",
       "  </tbody>\n",
       "</table>\n",
       "</div>"
      ],
      "text/plain": [
       "   Unnamed: 0  SeriousDlqin2yrs  RevolvingUtilizationOfUnsecuredLines  age  \\\n",
       "0           1                 1                              0.766127   45   \n",
       "1           2                 0                              0.957151   40   \n",
       "2           3                 0                              0.658180   38   \n",
       "3           4                 0                              0.233810   30   \n",
       "4           5                 0                              0.907239   49   \n",
       "\n",
       "   NumberOfTime30-59DaysPastDueNotWorse  DebtRatio  MonthlyIncome  \\\n",
       "0                                     2   0.802982         9120.0   \n",
       "1                                     0   0.121876         2600.0   \n",
       "2                                     1   0.085113         3042.0   \n",
       "3                                     0   0.036050         3300.0   \n",
       "4                                     1   0.024926        63588.0   \n",
       "\n",
       "   NumberOfOpenCreditLinesAndLoans  NumberOfTimes90DaysLate  \\\n",
       "0                               13                        0   \n",
       "1                                4                        0   \n",
       "2                                2                        1   \n",
       "3                                5                        0   \n",
       "4                                7                        0   \n",
       "\n",
       "   NumberRealEstateLoansOrLines  NumberOfTime60-89DaysPastDueNotWorse  \\\n",
       "0                             6                                     0   \n",
       "1                             0                                     0   \n",
       "2                             0                                     0   \n",
       "3                             0                                     0   \n",
       "4                             1                                     0   \n",
       "\n",
       "   NumberOfDependents  \n",
       "0                 2.0  \n",
       "1                 1.0  \n",
       "2                 0.0  \n",
       "3                 0.0  \n",
       "4                 0.0  "
      ]
     },
     "execution_count": 20,
     "metadata": {},
     "output_type": "execute_result"
    }
   ],
   "source": [
    "df.head()"
   ]
  },
  {
   "cell_type": "code",
   "execution_count": 21,
   "metadata": {},
   "outputs": [],
   "source": [
    "raw_data_dir = data_ingestion_config.raw_data_dir"
   ]
  },
  {
   "cell_type": "code",
   "execution_count": 22,
   "metadata": {},
   "outputs": [
    {
     "data": {
      "text/plain": [
       "'d:\\\\ML Projects\\\\Credit-Card-Default-Prediction\\\\default_prediction\\\\artifact\\\\data_ingestion\\\\2022-07-30-11-31-19\\\\raw_data'"
      ]
     },
     "execution_count": 22,
     "metadata": {},
     "output_type": "execute_result"
    }
   ],
   "source": [
    "raw_data_dir"
   ]
  },
  {
   "cell_type": "code",
   "execution_count": 23,
   "metadata": {},
   "outputs": [],
   "source": [
    "if os.path.exists(raw_data_dir):\n",
    "    os.remove(raw_data_dir)\n",
    "os.makedirs(raw_data_dir,exist_ok=True)\n"
   ]
  },
  {
   "cell_type": "code",
   "execution_count": 24,
   "metadata": {},
   "outputs": [],
   "source": [
    "import shutil"
   ]
  },
  {
   "cell_type": "code",
   "execution_count": 25,
   "metadata": {},
   "outputs": [
    {
     "data": {
      "text/plain": [
       "'d:\\\\ML Projects\\\\Credit-Card-Default-Prediction\\\\default_prediction\\\\artifact\\\\data_ingestion\\\\2022-07-30-11-31-19\\\\raw_data\\\\cs-training.csv'"
      ]
     },
     "execution_count": 25,
     "metadata": {},
     "output_type": "execute_result"
    }
   ],
   "source": [
    "shutil.copy(csv_file_path,raw_data_dir)"
   ]
  },
  {
   "cell_type": "code",
   "execution_count": 26,
   "metadata": {},
   "outputs": [],
   "source": [
    "file_name = os.listdir(raw_data_dir)[0]"
   ]
  },
  {
   "cell_type": "code",
   "execution_count": 27,
   "metadata": {},
   "outputs": [
    {
     "data": {
      "text/plain": [
       "'cs-training.csv'"
      ]
     },
     "execution_count": 27,
     "metadata": {},
     "output_type": "execute_result"
    }
   ],
   "source": [
    "file_name"
   ]
  },
  {
   "cell_type": "code",
   "execution_count": 28,
   "metadata": {},
   "outputs": [],
   "source": [
    "raw_data_file_path = os.path.join(raw_data_dir,file_name)"
   ]
  },
  {
   "cell_type": "code",
   "execution_count": 29,
   "metadata": {},
   "outputs": [
    {
     "data": {
      "text/plain": [
       "'d:\\\\ML Projects\\\\Credit-Card-Default-Prediction\\\\default_prediction\\\\artifact\\\\data_ingestion\\\\2022-07-30-11-31-19\\\\raw_data\\\\cs-training.csv'"
      ]
     },
     "execution_count": 29,
     "metadata": {},
     "output_type": "execute_result"
    }
   ],
   "source": [
    "raw_data_file_path"
   ]
  },
  {
   "cell_type": "code",
   "execution_count": 30,
   "metadata": {},
   "outputs": [],
   "source": [
    "default_prediction_data_frame = pd.read_csv(raw_data_file_path)"
   ]
  },
  {
   "cell_type": "code",
   "execution_count": 31,
   "metadata": {},
   "outputs": [],
   "source": [
    "default_pred_df = pd.read_csv(raw_data_file_path)"
   ]
  },
  {
   "cell_type": "code",
   "execution_count": 32,
   "metadata": {},
   "outputs": [],
   "source": [
    "from sklearn.impute import SimpleImputer"
   ]
  },
  {
   "cell_type": "code",
   "execution_count": 33,
   "metadata": {},
   "outputs": [],
   "source": [
    "simple_imputer = SimpleImputer(strategy=\"mean\")"
   ]
  },
  {
   "cell_type": "code",
   "execution_count": 34,
   "metadata": {},
   "outputs": [],
   "source": [
    "dataset_for_preprocessing = default_pred_df.drop(columns=\"SeriousDlqin2yrs\",axis = 1)"
   ]
  },
  {
   "cell_type": "code",
   "execution_count": 35,
   "metadata": {},
   "outputs": [],
   "source": [
    "default_prediction_array_data = simple_imputer.fit_transform(dataset_for_preprocessing)"
   ]
  },
  {
   "cell_type": "code",
   "execution_count": 36,
   "metadata": {},
   "outputs": [
    {
     "data": {
      "text/plain": [
       "array([[1.00000000e+00, 7.66126609e-01, 4.50000000e+01, ...,\n",
       "        6.00000000e+00, 0.00000000e+00, 2.00000000e+00],\n",
       "       [2.00000000e+00, 9.57151019e-01, 4.00000000e+01, ...,\n",
       "        0.00000000e+00, 0.00000000e+00, 1.00000000e+00],\n",
       "       [3.00000000e+00, 6.58180140e-01, 3.80000000e+01, ...,\n",
       "        0.00000000e+00, 0.00000000e+00, 0.00000000e+00],\n",
       "       ...,\n",
       "       [1.49998000e+05, 2.46043918e-01, 5.80000000e+01, ...,\n",
       "        1.00000000e+00, 0.00000000e+00, 0.00000000e+00],\n",
       "       [1.49999000e+05, 0.00000000e+00, 3.00000000e+01, ...,\n",
       "        0.00000000e+00, 0.00000000e+00, 0.00000000e+00],\n",
       "       [1.50000000e+05, 8.50282951e-01, 6.40000000e+01, ...,\n",
       "        2.00000000e+00, 0.00000000e+00, 0.00000000e+00]])"
      ]
     },
     "execution_count": 36,
     "metadata": {},
     "output_type": "execute_result"
    }
   ],
   "source": [
    "default_prediction_array_data"
   ]
  },
  {
   "cell_type": "code",
   "execution_count": 37,
   "metadata": {},
   "outputs": [],
   "source": [
    "from sklearn.preprocessing import StandardScaler"
   ]
  },
  {
   "cell_type": "code",
   "execution_count": 38,
   "metadata": {},
   "outputs": [],
   "source": [
    "scaler = StandardScaler()"
   ]
  },
  {
   "cell_type": "code",
   "execution_count": 39,
   "metadata": {},
   "outputs": [],
   "source": [
    "scalled_default_pred_arr = scaler.fit_transform(default_prediction_array_data)"
   ]
  },
  {
   "cell_type": "code",
   "execution_count": 40,
   "metadata": {},
   "outputs": [
    {
     "data": {
      "text/plain": [
       "array([[-1.73203926, -0.02115001, -0.49385982, ...,  4.40954554,\n",
       "        -0.05785249,  1.12938692],\n",
       "       [-1.73201617, -0.02038516, -0.83234222, ..., -0.90128301,\n",
       "        -0.05785249,  0.22062674],\n",
       "       [-1.73199307, -0.02158222, -0.96773518, ..., -0.90128301,\n",
       "        -0.05785249, -0.68813345],\n",
       "       ...,\n",
       "       [ 1.73199307, -0.02323239,  0.38619443, ..., -0.01614492,\n",
       "        -0.05785249, -0.68813345],\n",
       "       [ 1.73201617, -0.02421753, -1.50930703, ..., -0.90128301,\n",
       "        -0.05785249, -0.68813345],\n",
       "       [ 1.73203926, -0.02081306,  0.79237332, ...,  0.86899317,\n",
       "        -0.05785249, -0.68813345]])"
      ]
     },
     "execution_count": 40,
     "metadata": {},
     "output_type": "execute_result"
    }
   ],
   "source": [
    "scalled_default_pred_arr"
   ]
  },
  {
   "cell_type": "code",
   "execution_count": 41,
   "metadata": {},
   "outputs": [],
   "source": [
    "preprocessed_dataset_file_dir = data_ingestion_config.preprocessed_dataset_path"
   ]
  },
  {
   "cell_type": "code",
   "execution_count": 42,
   "metadata": {},
   "outputs": [
    {
     "data": {
      "text/plain": [
       "'d:\\\\ML Projects\\\\Credit-Card-Default-Prediction\\\\default_prediction\\\\artifact\\\\data_ingestion\\\\2022-07-30-11-31-19\\\\preprocessed_data'"
      ]
     },
     "execution_count": 42,
     "metadata": {},
     "output_type": "execute_result"
    }
   ],
   "source": [
    "preprocessed_dataset_file_dir"
   ]
  },
  {
   "cell_type": "code",
   "execution_count": 43,
   "metadata": {},
   "outputs": [],
   "source": [
    "import numpy as np"
   ]
  },
  {
   "cell_type": "code",
   "execution_count": 44,
   "metadata": {},
   "outputs": [],
   "source": [
    "np.save(preprocessed_dataset_file_dir,scalled_default_pred_arr)"
   ]
  },
  {
   "cell_type": "code",
   "execution_count": 45,
   "metadata": {},
   "outputs": [],
   "source": [
    "preprocessed_dataset_file_path = os.path.join(preprocessed_dataset_file_dir,preprocessed_dataset_file_dir+\".npy\")"
   ]
  },
  {
   "cell_type": "code",
   "execution_count": 46,
   "metadata": {},
   "outputs": [
    {
     "data": {
      "text/plain": [
       "'d:\\\\ML Projects\\\\Credit-Card-Default-Prediction\\\\default_prediction\\\\artifact\\\\data_ingestion\\\\2022-07-30-11-31-19\\\\preprocessed_data.npy'"
      ]
     },
     "execution_count": 46,
     "metadata": {},
     "output_type": "execute_result"
    }
   ],
   "source": [
    "preprocessed_dataset_file_path"
   ]
  },
  {
   "cell_type": "code",
   "execution_count": 47,
   "metadata": {},
   "outputs": [],
   "source": [
    "from default_prediction.util.util import load_numpy_array_data"
   ]
  },
  {
   "cell_type": "code",
   "execution_count": 48,
   "metadata": {},
   "outputs": [],
   "source": [
    "preprocessed_numpy_arr_data = load_numpy_array_data(file_path=preprocessed_dataset_file_path)"
   ]
  },
  {
   "cell_type": "code",
   "execution_count": 49,
   "metadata": {},
   "outputs": [
    {
     "data": {
      "text/plain": [
       "array([[-1.73203926, -0.02115001, -0.49385982, ...,  4.40954554,\n",
       "        -0.05785249,  1.12938692],\n",
       "       [-1.73201617, -0.02038516, -0.83234222, ..., -0.90128301,\n",
       "        -0.05785249,  0.22062674],\n",
       "       [-1.73199307, -0.02158222, -0.96773518, ..., -0.90128301,\n",
       "        -0.05785249, -0.68813345],\n",
       "       ...,\n",
       "       [ 1.73199307, -0.02323239,  0.38619443, ..., -0.01614492,\n",
       "        -0.05785249, -0.68813345],\n",
       "       [ 1.73201617, -0.02421753, -1.50930703, ..., -0.90128301,\n",
       "        -0.05785249, -0.68813345],\n",
       "       [ 1.73203926, -0.02081306,  0.79237332, ...,  0.86899317,\n",
       "        -0.05785249, -0.68813345]])"
      ]
     },
     "execution_count": 49,
     "metadata": {},
     "output_type": "execute_result"
    }
   ],
   "source": [
    "preprocessed_numpy_arr_data"
   ]
  },
  {
   "cell_type": "code",
   "execution_count": 50,
   "metadata": {},
   "outputs": [],
   "source": [
    "dataset_download_url = data_ingestion_config.data_download_url"
   ]
  },
  {
   "cell_type": "code",
   "execution_count": 51,
   "metadata": {},
   "outputs": [
    {
     "data": {
      "text/plain": [
       "'d:\\\\ML Projects\\\\Credit-Card-Default-Prediction\\\\default_prediction\\\\artifact\\\\data_ingestion\\\\2022-07-30-11-31-19\\\\raw_data'"
      ]
     },
     "execution_count": 51,
     "metadata": {},
     "output_type": "execute_result"
    }
   ],
   "source": [
    "raw_data_dir"
   ]
  },
  {
   "cell_type": "code",
   "execution_count": 52,
   "metadata": {},
   "outputs": [
    {
     "data": {
      "text/plain": [
       "'d:\\\\ML Projects\\\\Credit-Card-Default-Prediction\\\\default_prediction\\\\artifact\\\\data_ingestion\\\\2022-07-30-11-31-19\\\\raw_data\\\\cs-training.csv'"
      ]
     },
     "execution_count": 52,
     "metadata": {},
     "output_type": "execute_result"
    }
   ],
   "source": [
    "shutil.copy(csv_file_path,raw_data_dir)"
   ]
  },
  {
   "cell_type": "code",
   "execution_count": 53,
   "metadata": {},
   "outputs": [],
   "source": [
    "file_name = os.listdir(raw_data_dir)[0]"
   ]
  },
  {
   "cell_type": "code",
   "execution_count": 54,
   "metadata": {},
   "outputs": [],
   "source": [
    "file_path = os.path.join(raw_data_dir,file_name)"
   ]
  },
  {
   "cell_type": "code",
   "execution_count": 55,
   "metadata": {},
   "outputs": [],
   "source": [
    "default_pred_df= pd.read_csv(file_path)"
   ]
  },
  {
   "cell_type": "code",
   "execution_count": 56,
   "metadata": {},
   "outputs": [
    {
     "data": {
      "text/html": [
       "<div>\n",
       "<style scoped>\n",
       "    .dataframe tbody tr th:only-of-type {\n",
       "        vertical-align: middle;\n",
       "    }\n",
       "\n",
       "    .dataframe tbody tr th {\n",
       "        vertical-align: top;\n",
       "    }\n",
       "\n",
       "    .dataframe thead th {\n",
       "        text-align: right;\n",
       "    }\n",
       "</style>\n",
       "<table border=\"1\" class=\"dataframe\">\n",
       "  <thead>\n",
       "    <tr style=\"text-align: right;\">\n",
       "      <th></th>\n",
       "      <th>Unnamed: 0</th>\n",
       "      <th>SeriousDlqin2yrs</th>\n",
       "      <th>RevolvingUtilizationOfUnsecuredLines</th>\n",
       "      <th>age</th>\n",
       "      <th>NumberOfTime30-59DaysPastDueNotWorse</th>\n",
       "      <th>DebtRatio</th>\n",
       "      <th>MonthlyIncome</th>\n",
       "      <th>NumberOfOpenCreditLinesAndLoans</th>\n",
       "      <th>NumberOfTimes90DaysLate</th>\n",
       "      <th>NumberRealEstateLoansOrLines</th>\n",
       "      <th>NumberOfTime60-89DaysPastDueNotWorse</th>\n",
       "      <th>NumberOfDependents</th>\n",
       "    </tr>\n",
       "  </thead>\n",
       "  <tbody>\n",
       "    <tr>\n",
       "      <th>0</th>\n",
       "      <td>1</td>\n",
       "      <td>1</td>\n",
       "      <td>0.766127</td>\n",
       "      <td>45</td>\n",
       "      <td>2</td>\n",
       "      <td>0.802982</td>\n",
       "      <td>9120.0</td>\n",
       "      <td>13</td>\n",
       "      <td>0</td>\n",
       "      <td>6</td>\n",
       "      <td>0</td>\n",
       "      <td>2.0</td>\n",
       "    </tr>\n",
       "    <tr>\n",
       "      <th>1</th>\n",
       "      <td>2</td>\n",
       "      <td>0</td>\n",
       "      <td>0.957151</td>\n",
       "      <td>40</td>\n",
       "      <td>0</td>\n",
       "      <td>0.121876</td>\n",
       "      <td>2600.0</td>\n",
       "      <td>4</td>\n",
       "      <td>0</td>\n",
       "      <td>0</td>\n",
       "      <td>0</td>\n",
       "      <td>1.0</td>\n",
       "    </tr>\n",
       "    <tr>\n",
       "      <th>2</th>\n",
       "      <td>3</td>\n",
       "      <td>0</td>\n",
       "      <td>0.658180</td>\n",
       "      <td>38</td>\n",
       "      <td>1</td>\n",
       "      <td>0.085113</td>\n",
       "      <td>3042.0</td>\n",
       "      <td>2</td>\n",
       "      <td>1</td>\n",
       "      <td>0</td>\n",
       "      <td>0</td>\n",
       "      <td>0.0</td>\n",
       "    </tr>\n",
       "    <tr>\n",
       "      <th>3</th>\n",
       "      <td>4</td>\n",
       "      <td>0</td>\n",
       "      <td>0.233810</td>\n",
       "      <td>30</td>\n",
       "      <td>0</td>\n",
       "      <td>0.036050</td>\n",
       "      <td>3300.0</td>\n",
       "      <td>5</td>\n",
       "      <td>0</td>\n",
       "      <td>0</td>\n",
       "      <td>0</td>\n",
       "      <td>0.0</td>\n",
       "    </tr>\n",
       "    <tr>\n",
       "      <th>4</th>\n",
       "      <td>5</td>\n",
       "      <td>0</td>\n",
       "      <td>0.907239</td>\n",
       "      <td>49</td>\n",
       "      <td>1</td>\n",
       "      <td>0.024926</td>\n",
       "      <td>63588.0</td>\n",
       "      <td>7</td>\n",
       "      <td>0</td>\n",
       "      <td>1</td>\n",
       "      <td>0</td>\n",
       "      <td>0.0</td>\n",
       "    </tr>\n",
       "    <tr>\n",
       "      <th>...</th>\n",
       "      <td>...</td>\n",
       "      <td>...</td>\n",
       "      <td>...</td>\n",
       "      <td>...</td>\n",
       "      <td>...</td>\n",
       "      <td>...</td>\n",
       "      <td>...</td>\n",
       "      <td>...</td>\n",
       "      <td>...</td>\n",
       "      <td>...</td>\n",
       "      <td>...</td>\n",
       "      <td>...</td>\n",
       "    </tr>\n",
       "    <tr>\n",
       "      <th>149995</th>\n",
       "      <td>149996</td>\n",
       "      <td>0</td>\n",
       "      <td>0.040674</td>\n",
       "      <td>74</td>\n",
       "      <td>0</td>\n",
       "      <td>0.225131</td>\n",
       "      <td>2100.0</td>\n",
       "      <td>4</td>\n",
       "      <td>0</td>\n",
       "      <td>1</td>\n",
       "      <td>0</td>\n",
       "      <td>0.0</td>\n",
       "    </tr>\n",
       "    <tr>\n",
       "      <th>149996</th>\n",
       "      <td>149997</td>\n",
       "      <td>0</td>\n",
       "      <td>0.299745</td>\n",
       "      <td>44</td>\n",
       "      <td>0</td>\n",
       "      <td>0.716562</td>\n",
       "      <td>5584.0</td>\n",
       "      <td>4</td>\n",
       "      <td>0</td>\n",
       "      <td>1</td>\n",
       "      <td>0</td>\n",
       "      <td>2.0</td>\n",
       "    </tr>\n",
       "    <tr>\n",
       "      <th>149997</th>\n",
       "      <td>149998</td>\n",
       "      <td>0</td>\n",
       "      <td>0.246044</td>\n",
       "      <td>58</td>\n",
       "      <td>0</td>\n",
       "      <td>3870.000000</td>\n",
       "      <td>NaN</td>\n",
       "      <td>18</td>\n",
       "      <td>0</td>\n",
       "      <td>1</td>\n",
       "      <td>0</td>\n",
       "      <td>0.0</td>\n",
       "    </tr>\n",
       "    <tr>\n",
       "      <th>149998</th>\n",
       "      <td>149999</td>\n",
       "      <td>0</td>\n",
       "      <td>0.000000</td>\n",
       "      <td>30</td>\n",
       "      <td>0</td>\n",
       "      <td>0.000000</td>\n",
       "      <td>5716.0</td>\n",
       "      <td>4</td>\n",
       "      <td>0</td>\n",
       "      <td>0</td>\n",
       "      <td>0</td>\n",
       "      <td>0.0</td>\n",
       "    </tr>\n",
       "    <tr>\n",
       "      <th>149999</th>\n",
       "      <td>150000</td>\n",
       "      <td>0</td>\n",
       "      <td>0.850283</td>\n",
       "      <td>64</td>\n",
       "      <td>0</td>\n",
       "      <td>0.249908</td>\n",
       "      <td>8158.0</td>\n",
       "      <td>8</td>\n",
       "      <td>0</td>\n",
       "      <td>2</td>\n",
       "      <td>0</td>\n",
       "      <td>0.0</td>\n",
       "    </tr>\n",
       "  </tbody>\n",
       "</table>\n",
       "<p>150000 rows × 12 columns</p>\n",
       "</div>"
      ],
      "text/plain": [
       "        Unnamed: 0  SeriousDlqin2yrs  RevolvingUtilizationOfUnsecuredLines  \\\n",
       "0                1                 1                              0.766127   \n",
       "1                2                 0                              0.957151   \n",
       "2                3                 0                              0.658180   \n",
       "3                4                 0                              0.233810   \n",
       "4                5                 0                              0.907239   \n",
       "...            ...               ...                                   ...   \n",
       "149995      149996                 0                              0.040674   \n",
       "149996      149997                 0                              0.299745   \n",
       "149997      149998                 0                              0.246044   \n",
       "149998      149999                 0                              0.000000   \n",
       "149999      150000                 0                              0.850283   \n",
       "\n",
       "        age  NumberOfTime30-59DaysPastDueNotWorse    DebtRatio  MonthlyIncome  \\\n",
       "0        45                                     2     0.802982         9120.0   \n",
       "1        40                                     0     0.121876         2600.0   \n",
       "2        38                                     1     0.085113         3042.0   \n",
       "3        30                                     0     0.036050         3300.0   \n",
       "4        49                                     1     0.024926        63588.0   \n",
       "...     ...                                   ...          ...            ...   \n",
       "149995   74                                     0     0.225131         2100.0   \n",
       "149996   44                                     0     0.716562         5584.0   \n",
       "149997   58                                     0  3870.000000            NaN   \n",
       "149998   30                                     0     0.000000         5716.0   \n",
       "149999   64                                     0     0.249908         8158.0   \n",
       "\n",
       "        NumberOfOpenCreditLinesAndLoans  NumberOfTimes90DaysLate  \\\n",
       "0                                    13                        0   \n",
       "1                                     4                        0   \n",
       "2                                     2                        1   \n",
       "3                                     5                        0   \n",
       "4                                     7                        0   \n",
       "...                                 ...                      ...   \n",
       "149995                                4                        0   \n",
       "149996                                4                        0   \n",
       "149997                               18                        0   \n",
       "149998                                4                        0   \n",
       "149999                                8                        0   \n",
       "\n",
       "        NumberRealEstateLoansOrLines  NumberOfTime60-89DaysPastDueNotWorse  \\\n",
       "0                                  6                                     0   \n",
       "1                                  0                                     0   \n",
       "2                                  0                                     0   \n",
       "3                                  0                                     0   \n",
       "4                                  1                                     0   \n",
       "...                              ...                                   ...   \n",
       "149995                             1                                     0   \n",
       "149996                             1                                     0   \n",
       "149997                             1                                     0   \n",
       "149998                             0                                     0   \n",
       "149999                             2                                     0   \n",
       "\n",
       "        NumberOfDependents  \n",
       "0                      2.0  \n",
       "1                      1.0  \n",
       "2                      0.0  \n",
       "3                      0.0  \n",
       "4                      0.0  \n",
       "...                    ...  \n",
       "149995                 0.0  \n",
       "149996                 2.0  \n",
       "149997                 0.0  \n",
       "149998                 0.0  \n",
       "149999                 0.0  \n",
       "\n",
       "[150000 rows x 12 columns]"
      ]
     },
     "execution_count": 56,
     "metadata": {},
     "output_type": "execute_result"
    }
   ],
   "source": [
    "default_pred_df"
   ]
  },
  {
   "cell_type": "code",
   "execution_count": 57,
   "metadata": {},
   "outputs": [],
   "source": [
    "target_coulmn_dataframe = default_pred_df[\"SeriousDlqin2yrs\"]"
   ]
  },
  {
   "cell_type": "code",
   "execution_count": 58,
   "metadata": {},
   "outputs": [
    {
     "data": {
      "text/plain": [
       "0         1\n",
       "1         0\n",
       "2         0\n",
       "3         0\n",
       "4         0\n",
       "         ..\n",
       "149995    0\n",
       "149996    0\n",
       "149997    0\n",
       "149998    0\n",
       "149999    0\n",
       "Name: SeriousDlqin2yrs, Length: 150000, dtype: int64"
      ]
     },
     "execution_count": 58,
     "metadata": {},
     "output_type": "execute_result"
    }
   ],
   "source": [
    "target_coulmn_dataframe"
   ]
  },
  {
   "cell_type": "code",
   "execution_count": 59,
   "metadata": {},
   "outputs": [],
   "source": [
    "preprocessed_numpy_arr_data = preprocessed_numpy_arr_data"
   ]
  },
  {
   "cell_type": "code",
   "execution_count": 60,
   "metadata": {},
   "outputs": [],
   "source": [
    "preprocessed_dataframe = pd.DataFrame(preprocessed_numpy_arr_data)"
   ]
  },
  {
   "cell_type": "code",
   "execution_count": 61,
   "metadata": {},
   "outputs": [
    {
     "data": {
      "text/html": [
       "<div>\n",
       "<style scoped>\n",
       "    .dataframe tbody tr th:only-of-type {\n",
       "        vertical-align: middle;\n",
       "    }\n",
       "\n",
       "    .dataframe tbody tr th {\n",
       "        vertical-align: top;\n",
       "    }\n",
       "\n",
       "    .dataframe thead th {\n",
       "        text-align: right;\n",
       "    }\n",
       "</style>\n",
       "<table border=\"1\" class=\"dataframe\">\n",
       "  <thead>\n",
       "    <tr style=\"text-align: right;\">\n",
       "      <th></th>\n",
       "      <th>0</th>\n",
       "      <th>1</th>\n",
       "      <th>2</th>\n",
       "      <th>3</th>\n",
       "      <th>4</th>\n",
       "      <th>5</th>\n",
       "      <th>6</th>\n",
       "      <th>7</th>\n",
       "      <th>8</th>\n",
       "      <th>9</th>\n",
       "      <th>10</th>\n",
       "    </tr>\n",
       "  </thead>\n",
       "  <tbody>\n",
       "    <tr>\n",
       "      <th>0</th>\n",
       "      <td>-1.732039</td>\n",
       "      <td>-0.021150</td>\n",
       "      <td>-0.493860</td>\n",
       "      <td>0.376593</td>\n",
       "      <td>-0.172833</td>\n",
       "      <td>1.901943e-01</td>\n",
       "      <td>0.883657</td>\n",
       "      <td>-0.063793</td>\n",
       "      <td>4.409546</td>\n",
       "      <td>-0.057852</td>\n",
       "      <td>1.129387</td>\n",
       "    </tr>\n",
       "    <tr>\n",
       "      <th>1</th>\n",
       "      <td>-1.732016</td>\n",
       "      <td>-0.020385</td>\n",
       "      <td>-0.832342</td>\n",
       "      <td>-0.100419</td>\n",
       "      <td>-0.173168</td>\n",
       "      <td>-3.160011e-01</td>\n",
       "      <td>-0.865297</td>\n",
       "      <td>-0.063793</td>\n",
       "      <td>-0.901283</td>\n",
       "      <td>-0.057852</td>\n",
       "      <td>0.220627</td>\n",
       "    </tr>\n",
       "    <tr>\n",
       "      <th>2</th>\n",
       "      <td>-1.731993</td>\n",
       "      <td>-0.021582</td>\n",
       "      <td>-0.967735</td>\n",
       "      <td>0.138087</td>\n",
       "      <td>-0.173186</td>\n",
       "      <td>-2.816854e-01</td>\n",
       "      <td>-1.253953</td>\n",
       "      <td>0.176056</td>\n",
       "      <td>-0.901283</td>\n",
       "      <td>-0.057852</td>\n",
       "      <td>-0.688133</td>\n",
       "    </tr>\n",
       "    <tr>\n",
       "      <th>3</th>\n",
       "      <td>-1.731970</td>\n",
       "      <td>-0.023281</td>\n",
       "      <td>-1.509307</td>\n",
       "      <td>-0.100419</td>\n",
       "      <td>-0.173210</td>\n",
       "      <td>-2.616550e-01</td>\n",
       "      <td>-0.670969</td>\n",
       "      <td>-0.063793</td>\n",
       "      <td>-0.901283</td>\n",
       "      <td>-0.057852</td>\n",
       "      <td>-0.688133</td>\n",
       "    </tr>\n",
       "    <tr>\n",
       "      <th>4</th>\n",
       "      <td>-1.731947</td>\n",
       "      <td>-0.020585</td>\n",
       "      <td>-0.223074</td>\n",
       "      <td>0.138087</td>\n",
       "      <td>-0.173215</td>\n",
       "      <td>4.418944e+00</td>\n",
       "      <td>-0.282312</td>\n",
       "      <td>-0.063793</td>\n",
       "      <td>-0.016145</td>\n",
       "      <td>-0.057852</td>\n",
       "      <td>-0.688133</td>\n",
       "    </tr>\n",
       "    <tr>\n",
       "      <th>...</th>\n",
       "      <td>...</td>\n",
       "      <td>...</td>\n",
       "      <td>...</td>\n",
       "      <td>...</td>\n",
       "      <td>...</td>\n",
       "      <td>...</td>\n",
       "      <td>...</td>\n",
       "      <td>...</td>\n",
       "      <td>...</td>\n",
       "      <td>...</td>\n",
       "      <td>...</td>\n",
       "    </tr>\n",
       "    <tr>\n",
       "      <th>149995</th>\n",
       "      <td>1.731947</td>\n",
       "      <td>-0.024055</td>\n",
       "      <td>1.469338</td>\n",
       "      <td>-0.100419</td>\n",
       "      <td>-0.173117</td>\n",
       "      <td>-3.548197e-01</td>\n",
       "      <td>-0.865297</td>\n",
       "      <td>-0.063793</td>\n",
       "      <td>-0.016145</td>\n",
       "      <td>-0.057852</td>\n",
       "      <td>-0.688133</td>\n",
       "    </tr>\n",
       "    <tr>\n",
       "      <th>149996</th>\n",
       "      <td>1.731970</td>\n",
       "      <td>-0.023017</td>\n",
       "      <td>-0.561556</td>\n",
       "      <td>-0.100419</td>\n",
       "      <td>-0.172876</td>\n",
       "      <td>-8.433131e-02</td>\n",
       "      <td>-0.865297</td>\n",
       "      <td>-0.063793</td>\n",
       "      <td>-0.016145</td>\n",
       "      <td>-0.057852</td>\n",
       "      <td>1.129387</td>\n",
       "    </tr>\n",
       "    <tr>\n",
       "      <th>149997</th>\n",
       "      <td>1.731993</td>\n",
       "      <td>-0.023232</td>\n",
       "      <td>0.386194</td>\n",
       "      <td>-0.100419</td>\n",
       "      <td>1.725868</td>\n",
       "      <td>-2.118322e-16</td>\n",
       "      <td>1.855298</td>\n",
       "      <td>-0.063793</td>\n",
       "      <td>-0.016145</td>\n",
       "      <td>-0.057852</td>\n",
       "      <td>-0.688133</td>\n",
       "    </tr>\n",
       "    <tr>\n",
       "      <th>149998</th>\n",
       "      <td>1.732016</td>\n",
       "      <td>-0.024218</td>\n",
       "      <td>-1.509307</td>\n",
       "      <td>-0.100419</td>\n",
       "      <td>-0.173228</td>\n",
       "      <td>-7.408318e-02</td>\n",
       "      <td>-0.865297</td>\n",
       "      <td>-0.063793</td>\n",
       "      <td>-0.901283</td>\n",
       "      <td>-0.057852</td>\n",
       "      <td>-0.688133</td>\n",
       "    </tr>\n",
       "    <tr>\n",
       "      <th>149999</th>\n",
       "      <td>1.732039</td>\n",
       "      <td>-0.020813</td>\n",
       "      <td>0.792373</td>\n",
       "      <td>-0.100419</td>\n",
       "      <td>-0.173105</td>\n",
       "      <td>1.155072e-01</td>\n",
       "      <td>-0.087984</td>\n",
       "      <td>-0.063793</td>\n",
       "      <td>0.868993</td>\n",
       "      <td>-0.057852</td>\n",
       "      <td>-0.688133</td>\n",
       "    </tr>\n",
       "  </tbody>\n",
       "</table>\n",
       "<p>150000 rows × 11 columns</p>\n",
       "</div>"
      ],
      "text/plain": [
       "              0         1         2         3         4             5   \\\n",
       "0      -1.732039 -0.021150 -0.493860  0.376593 -0.172833  1.901943e-01   \n",
       "1      -1.732016 -0.020385 -0.832342 -0.100419 -0.173168 -3.160011e-01   \n",
       "2      -1.731993 -0.021582 -0.967735  0.138087 -0.173186 -2.816854e-01   \n",
       "3      -1.731970 -0.023281 -1.509307 -0.100419 -0.173210 -2.616550e-01   \n",
       "4      -1.731947 -0.020585 -0.223074  0.138087 -0.173215  4.418944e+00   \n",
       "...          ...       ...       ...       ...       ...           ...   \n",
       "149995  1.731947 -0.024055  1.469338 -0.100419 -0.173117 -3.548197e-01   \n",
       "149996  1.731970 -0.023017 -0.561556 -0.100419 -0.172876 -8.433131e-02   \n",
       "149997  1.731993 -0.023232  0.386194 -0.100419  1.725868 -2.118322e-16   \n",
       "149998  1.732016 -0.024218 -1.509307 -0.100419 -0.173228 -7.408318e-02   \n",
       "149999  1.732039 -0.020813  0.792373 -0.100419 -0.173105  1.155072e-01   \n",
       "\n",
       "              6         7         8         9         10  \n",
       "0       0.883657 -0.063793  4.409546 -0.057852  1.129387  \n",
       "1      -0.865297 -0.063793 -0.901283 -0.057852  0.220627  \n",
       "2      -1.253953  0.176056 -0.901283 -0.057852 -0.688133  \n",
       "3      -0.670969 -0.063793 -0.901283 -0.057852 -0.688133  \n",
       "4      -0.282312 -0.063793 -0.016145 -0.057852 -0.688133  \n",
       "...          ...       ...       ...       ...       ...  \n",
       "149995 -0.865297 -0.063793 -0.016145 -0.057852 -0.688133  \n",
       "149996 -0.865297 -0.063793 -0.016145 -0.057852  1.129387  \n",
       "149997  1.855298 -0.063793 -0.016145 -0.057852 -0.688133  \n",
       "149998 -0.865297 -0.063793 -0.901283 -0.057852 -0.688133  \n",
       "149999 -0.087984 -0.063793  0.868993 -0.057852 -0.688133  \n",
       "\n",
       "[150000 rows x 11 columns]"
      ]
     },
     "execution_count": 61,
     "metadata": {},
     "output_type": "execute_result"
    }
   ],
   "source": [
    "preprocessed_dataframe"
   ]
  },
  {
   "cell_type": "code",
   "execution_count": 62,
   "metadata": {},
   "outputs": [],
   "source": [
    "new_default_pred_df =  pd.concat([preprocessed_dataframe,target_coulmn_dataframe],axis = 1)"
   ]
  },
  {
   "cell_type": "code",
   "execution_count": 63,
   "metadata": {},
   "outputs": [
    {
     "data": {
      "text/html": [
       "<div>\n",
       "<style scoped>\n",
       "    .dataframe tbody tr th:only-of-type {\n",
       "        vertical-align: middle;\n",
       "    }\n",
       "\n",
       "    .dataframe tbody tr th {\n",
       "        vertical-align: top;\n",
       "    }\n",
       "\n",
       "    .dataframe thead th {\n",
       "        text-align: right;\n",
       "    }\n",
       "</style>\n",
       "<table border=\"1\" class=\"dataframe\">\n",
       "  <thead>\n",
       "    <tr style=\"text-align: right;\">\n",
       "      <th></th>\n",
       "      <th>0</th>\n",
       "      <th>1</th>\n",
       "      <th>2</th>\n",
       "      <th>3</th>\n",
       "      <th>4</th>\n",
       "      <th>5</th>\n",
       "      <th>6</th>\n",
       "      <th>7</th>\n",
       "      <th>8</th>\n",
       "      <th>9</th>\n",
       "      <th>10</th>\n",
       "      <th>SeriousDlqin2yrs</th>\n",
       "    </tr>\n",
       "  </thead>\n",
       "  <tbody>\n",
       "    <tr>\n",
       "      <th>0</th>\n",
       "      <td>-1.732039</td>\n",
       "      <td>-0.021150</td>\n",
       "      <td>-0.493860</td>\n",
       "      <td>0.376593</td>\n",
       "      <td>-0.172833</td>\n",
       "      <td>1.901943e-01</td>\n",
       "      <td>0.883657</td>\n",
       "      <td>-0.063793</td>\n",
       "      <td>4.409546</td>\n",
       "      <td>-0.057852</td>\n",
       "      <td>1.129387</td>\n",
       "      <td>1</td>\n",
       "    </tr>\n",
       "    <tr>\n",
       "      <th>1</th>\n",
       "      <td>-1.732016</td>\n",
       "      <td>-0.020385</td>\n",
       "      <td>-0.832342</td>\n",
       "      <td>-0.100419</td>\n",
       "      <td>-0.173168</td>\n",
       "      <td>-3.160011e-01</td>\n",
       "      <td>-0.865297</td>\n",
       "      <td>-0.063793</td>\n",
       "      <td>-0.901283</td>\n",
       "      <td>-0.057852</td>\n",
       "      <td>0.220627</td>\n",
       "      <td>0</td>\n",
       "    </tr>\n",
       "    <tr>\n",
       "      <th>2</th>\n",
       "      <td>-1.731993</td>\n",
       "      <td>-0.021582</td>\n",
       "      <td>-0.967735</td>\n",
       "      <td>0.138087</td>\n",
       "      <td>-0.173186</td>\n",
       "      <td>-2.816854e-01</td>\n",
       "      <td>-1.253953</td>\n",
       "      <td>0.176056</td>\n",
       "      <td>-0.901283</td>\n",
       "      <td>-0.057852</td>\n",
       "      <td>-0.688133</td>\n",
       "      <td>0</td>\n",
       "    </tr>\n",
       "    <tr>\n",
       "      <th>3</th>\n",
       "      <td>-1.731970</td>\n",
       "      <td>-0.023281</td>\n",
       "      <td>-1.509307</td>\n",
       "      <td>-0.100419</td>\n",
       "      <td>-0.173210</td>\n",
       "      <td>-2.616550e-01</td>\n",
       "      <td>-0.670969</td>\n",
       "      <td>-0.063793</td>\n",
       "      <td>-0.901283</td>\n",
       "      <td>-0.057852</td>\n",
       "      <td>-0.688133</td>\n",
       "      <td>0</td>\n",
       "    </tr>\n",
       "    <tr>\n",
       "      <th>4</th>\n",
       "      <td>-1.731947</td>\n",
       "      <td>-0.020585</td>\n",
       "      <td>-0.223074</td>\n",
       "      <td>0.138087</td>\n",
       "      <td>-0.173215</td>\n",
       "      <td>4.418944e+00</td>\n",
       "      <td>-0.282312</td>\n",
       "      <td>-0.063793</td>\n",
       "      <td>-0.016145</td>\n",
       "      <td>-0.057852</td>\n",
       "      <td>-0.688133</td>\n",
       "      <td>0</td>\n",
       "    </tr>\n",
       "    <tr>\n",
       "      <th>...</th>\n",
       "      <td>...</td>\n",
       "      <td>...</td>\n",
       "      <td>...</td>\n",
       "      <td>...</td>\n",
       "      <td>...</td>\n",
       "      <td>...</td>\n",
       "      <td>...</td>\n",
       "      <td>...</td>\n",
       "      <td>...</td>\n",
       "      <td>...</td>\n",
       "      <td>...</td>\n",
       "      <td>...</td>\n",
       "    </tr>\n",
       "    <tr>\n",
       "      <th>149995</th>\n",
       "      <td>1.731947</td>\n",
       "      <td>-0.024055</td>\n",
       "      <td>1.469338</td>\n",
       "      <td>-0.100419</td>\n",
       "      <td>-0.173117</td>\n",
       "      <td>-3.548197e-01</td>\n",
       "      <td>-0.865297</td>\n",
       "      <td>-0.063793</td>\n",
       "      <td>-0.016145</td>\n",
       "      <td>-0.057852</td>\n",
       "      <td>-0.688133</td>\n",
       "      <td>0</td>\n",
       "    </tr>\n",
       "    <tr>\n",
       "      <th>149996</th>\n",
       "      <td>1.731970</td>\n",
       "      <td>-0.023017</td>\n",
       "      <td>-0.561556</td>\n",
       "      <td>-0.100419</td>\n",
       "      <td>-0.172876</td>\n",
       "      <td>-8.433131e-02</td>\n",
       "      <td>-0.865297</td>\n",
       "      <td>-0.063793</td>\n",
       "      <td>-0.016145</td>\n",
       "      <td>-0.057852</td>\n",
       "      <td>1.129387</td>\n",
       "      <td>0</td>\n",
       "    </tr>\n",
       "    <tr>\n",
       "      <th>149997</th>\n",
       "      <td>1.731993</td>\n",
       "      <td>-0.023232</td>\n",
       "      <td>0.386194</td>\n",
       "      <td>-0.100419</td>\n",
       "      <td>1.725868</td>\n",
       "      <td>-2.118322e-16</td>\n",
       "      <td>1.855298</td>\n",
       "      <td>-0.063793</td>\n",
       "      <td>-0.016145</td>\n",
       "      <td>-0.057852</td>\n",
       "      <td>-0.688133</td>\n",
       "      <td>0</td>\n",
       "    </tr>\n",
       "    <tr>\n",
       "      <th>149998</th>\n",
       "      <td>1.732016</td>\n",
       "      <td>-0.024218</td>\n",
       "      <td>-1.509307</td>\n",
       "      <td>-0.100419</td>\n",
       "      <td>-0.173228</td>\n",
       "      <td>-7.408318e-02</td>\n",
       "      <td>-0.865297</td>\n",
       "      <td>-0.063793</td>\n",
       "      <td>-0.901283</td>\n",
       "      <td>-0.057852</td>\n",
       "      <td>-0.688133</td>\n",
       "      <td>0</td>\n",
       "    </tr>\n",
       "    <tr>\n",
       "      <th>149999</th>\n",
       "      <td>1.732039</td>\n",
       "      <td>-0.020813</td>\n",
       "      <td>0.792373</td>\n",
       "      <td>-0.100419</td>\n",
       "      <td>-0.173105</td>\n",
       "      <td>1.155072e-01</td>\n",
       "      <td>-0.087984</td>\n",
       "      <td>-0.063793</td>\n",
       "      <td>0.868993</td>\n",
       "      <td>-0.057852</td>\n",
       "      <td>-0.688133</td>\n",
       "      <td>0</td>\n",
       "    </tr>\n",
       "  </tbody>\n",
       "</table>\n",
       "<p>150000 rows × 12 columns</p>\n",
       "</div>"
      ],
      "text/plain": [
       "               0         1         2         3         4             5  \\\n",
       "0      -1.732039 -0.021150 -0.493860  0.376593 -0.172833  1.901943e-01   \n",
       "1      -1.732016 -0.020385 -0.832342 -0.100419 -0.173168 -3.160011e-01   \n",
       "2      -1.731993 -0.021582 -0.967735  0.138087 -0.173186 -2.816854e-01   \n",
       "3      -1.731970 -0.023281 -1.509307 -0.100419 -0.173210 -2.616550e-01   \n",
       "4      -1.731947 -0.020585 -0.223074  0.138087 -0.173215  4.418944e+00   \n",
       "...          ...       ...       ...       ...       ...           ...   \n",
       "149995  1.731947 -0.024055  1.469338 -0.100419 -0.173117 -3.548197e-01   \n",
       "149996  1.731970 -0.023017 -0.561556 -0.100419 -0.172876 -8.433131e-02   \n",
       "149997  1.731993 -0.023232  0.386194 -0.100419  1.725868 -2.118322e-16   \n",
       "149998  1.732016 -0.024218 -1.509307 -0.100419 -0.173228 -7.408318e-02   \n",
       "149999  1.732039 -0.020813  0.792373 -0.100419 -0.173105  1.155072e-01   \n",
       "\n",
       "               6         7         8         9        10  SeriousDlqin2yrs  \n",
       "0       0.883657 -0.063793  4.409546 -0.057852  1.129387                 1  \n",
       "1      -0.865297 -0.063793 -0.901283 -0.057852  0.220627                 0  \n",
       "2      -1.253953  0.176056 -0.901283 -0.057852 -0.688133                 0  \n",
       "3      -0.670969 -0.063793 -0.901283 -0.057852 -0.688133                 0  \n",
       "4      -0.282312 -0.063793 -0.016145 -0.057852 -0.688133                 0  \n",
       "...          ...       ...       ...       ...       ...               ...  \n",
       "149995 -0.865297 -0.063793 -0.016145 -0.057852 -0.688133                 0  \n",
       "149996 -0.865297 -0.063793 -0.016145 -0.057852  1.129387                 0  \n",
       "149997  1.855298 -0.063793 -0.016145 -0.057852 -0.688133                 0  \n",
       "149998 -0.865297 -0.063793 -0.901283 -0.057852 -0.688133                 0  \n",
       "149999 -0.087984 -0.063793  0.868993 -0.057852 -0.688133                 0  \n",
       "\n",
       "[150000 rows x 12 columns]"
      ]
     },
     "execution_count": 63,
     "metadata": {},
     "output_type": "execute_result"
    }
   ],
   "source": [
    "new_default_pred_df"
   ]
  },
  {
   "cell_type": "code",
   "execution_count": 64,
   "metadata": {},
   "outputs": [],
   "source": [
    "from default_prediction.util.util import column"
   ]
  },
  {
   "cell_type": "code",
   "execution_count": 65,
   "metadata": {},
   "outputs": [],
   "source": [
    "new_default_pred_df.columns = column"
   ]
  },
  {
   "cell_type": "code",
   "execution_count": 66,
   "metadata": {},
   "outputs": [
    {
     "data": {
      "text/html": [
       "<div>\n",
       "<style scoped>\n",
       "    .dataframe tbody tr th:only-of-type {\n",
       "        vertical-align: middle;\n",
       "    }\n",
       "\n",
       "    .dataframe tbody tr th {\n",
       "        vertical-align: top;\n",
       "    }\n",
       "\n",
       "    .dataframe thead th {\n",
       "        text-align: right;\n",
       "    }\n",
       "</style>\n",
       "<table border=\"1\" class=\"dataframe\">\n",
       "  <thead>\n",
       "    <tr style=\"text-align: right;\">\n",
       "      <th></th>\n",
       "      <th>CustomerID</th>\n",
       "      <th>RevolvingUtilizationOfUnsecuredLines</th>\n",
       "      <th>age</th>\n",
       "      <th>NumberOfTime30-59DaysPastDueNotWorse</th>\n",
       "      <th>DebtRatio</th>\n",
       "      <th>MonthlyIncome</th>\n",
       "      <th>NumberOfOpenCreditLinesAndLoans</th>\n",
       "      <th>NumberOfTimes90DaysLate</th>\n",
       "      <th>NumberRealEstateLoansOrLines</th>\n",
       "      <th>NumberOfTime60-89DaysPastDueNotWorse</th>\n",
       "      <th>NumberOfDependents</th>\n",
       "      <th>SeriousDlqin2yrs</th>\n",
       "    </tr>\n",
       "  </thead>\n",
       "  <tbody>\n",
       "    <tr>\n",
       "      <th>0</th>\n",
       "      <td>-1.732039</td>\n",
       "      <td>-0.021150</td>\n",
       "      <td>-0.493860</td>\n",
       "      <td>0.376593</td>\n",
       "      <td>-0.172833</td>\n",
       "      <td>1.901943e-01</td>\n",
       "      <td>0.883657</td>\n",
       "      <td>-0.063793</td>\n",
       "      <td>4.409546</td>\n",
       "      <td>-0.057852</td>\n",
       "      <td>1.129387</td>\n",
       "      <td>1</td>\n",
       "    </tr>\n",
       "    <tr>\n",
       "      <th>1</th>\n",
       "      <td>-1.732016</td>\n",
       "      <td>-0.020385</td>\n",
       "      <td>-0.832342</td>\n",
       "      <td>-0.100419</td>\n",
       "      <td>-0.173168</td>\n",
       "      <td>-3.160011e-01</td>\n",
       "      <td>-0.865297</td>\n",
       "      <td>-0.063793</td>\n",
       "      <td>-0.901283</td>\n",
       "      <td>-0.057852</td>\n",
       "      <td>0.220627</td>\n",
       "      <td>0</td>\n",
       "    </tr>\n",
       "    <tr>\n",
       "      <th>2</th>\n",
       "      <td>-1.731993</td>\n",
       "      <td>-0.021582</td>\n",
       "      <td>-0.967735</td>\n",
       "      <td>0.138087</td>\n",
       "      <td>-0.173186</td>\n",
       "      <td>-2.816854e-01</td>\n",
       "      <td>-1.253953</td>\n",
       "      <td>0.176056</td>\n",
       "      <td>-0.901283</td>\n",
       "      <td>-0.057852</td>\n",
       "      <td>-0.688133</td>\n",
       "      <td>0</td>\n",
       "    </tr>\n",
       "    <tr>\n",
       "      <th>3</th>\n",
       "      <td>-1.731970</td>\n",
       "      <td>-0.023281</td>\n",
       "      <td>-1.509307</td>\n",
       "      <td>-0.100419</td>\n",
       "      <td>-0.173210</td>\n",
       "      <td>-2.616550e-01</td>\n",
       "      <td>-0.670969</td>\n",
       "      <td>-0.063793</td>\n",
       "      <td>-0.901283</td>\n",
       "      <td>-0.057852</td>\n",
       "      <td>-0.688133</td>\n",
       "      <td>0</td>\n",
       "    </tr>\n",
       "    <tr>\n",
       "      <th>4</th>\n",
       "      <td>-1.731947</td>\n",
       "      <td>-0.020585</td>\n",
       "      <td>-0.223074</td>\n",
       "      <td>0.138087</td>\n",
       "      <td>-0.173215</td>\n",
       "      <td>4.418944e+00</td>\n",
       "      <td>-0.282312</td>\n",
       "      <td>-0.063793</td>\n",
       "      <td>-0.016145</td>\n",
       "      <td>-0.057852</td>\n",
       "      <td>-0.688133</td>\n",
       "      <td>0</td>\n",
       "    </tr>\n",
       "    <tr>\n",
       "      <th>...</th>\n",
       "      <td>...</td>\n",
       "      <td>...</td>\n",
       "      <td>...</td>\n",
       "      <td>...</td>\n",
       "      <td>...</td>\n",
       "      <td>...</td>\n",
       "      <td>...</td>\n",
       "      <td>...</td>\n",
       "      <td>...</td>\n",
       "      <td>...</td>\n",
       "      <td>...</td>\n",
       "      <td>...</td>\n",
       "    </tr>\n",
       "    <tr>\n",
       "      <th>149995</th>\n",
       "      <td>1.731947</td>\n",
       "      <td>-0.024055</td>\n",
       "      <td>1.469338</td>\n",
       "      <td>-0.100419</td>\n",
       "      <td>-0.173117</td>\n",
       "      <td>-3.548197e-01</td>\n",
       "      <td>-0.865297</td>\n",
       "      <td>-0.063793</td>\n",
       "      <td>-0.016145</td>\n",
       "      <td>-0.057852</td>\n",
       "      <td>-0.688133</td>\n",
       "      <td>0</td>\n",
       "    </tr>\n",
       "    <tr>\n",
       "      <th>149996</th>\n",
       "      <td>1.731970</td>\n",
       "      <td>-0.023017</td>\n",
       "      <td>-0.561556</td>\n",
       "      <td>-0.100419</td>\n",
       "      <td>-0.172876</td>\n",
       "      <td>-8.433131e-02</td>\n",
       "      <td>-0.865297</td>\n",
       "      <td>-0.063793</td>\n",
       "      <td>-0.016145</td>\n",
       "      <td>-0.057852</td>\n",
       "      <td>1.129387</td>\n",
       "      <td>0</td>\n",
       "    </tr>\n",
       "    <tr>\n",
       "      <th>149997</th>\n",
       "      <td>1.731993</td>\n",
       "      <td>-0.023232</td>\n",
       "      <td>0.386194</td>\n",
       "      <td>-0.100419</td>\n",
       "      <td>1.725868</td>\n",
       "      <td>-2.118322e-16</td>\n",
       "      <td>1.855298</td>\n",
       "      <td>-0.063793</td>\n",
       "      <td>-0.016145</td>\n",
       "      <td>-0.057852</td>\n",
       "      <td>-0.688133</td>\n",
       "      <td>0</td>\n",
       "    </tr>\n",
       "    <tr>\n",
       "      <th>149998</th>\n",
       "      <td>1.732016</td>\n",
       "      <td>-0.024218</td>\n",
       "      <td>-1.509307</td>\n",
       "      <td>-0.100419</td>\n",
       "      <td>-0.173228</td>\n",
       "      <td>-7.408318e-02</td>\n",
       "      <td>-0.865297</td>\n",
       "      <td>-0.063793</td>\n",
       "      <td>-0.901283</td>\n",
       "      <td>-0.057852</td>\n",
       "      <td>-0.688133</td>\n",
       "      <td>0</td>\n",
       "    </tr>\n",
       "    <tr>\n",
       "      <th>149999</th>\n",
       "      <td>1.732039</td>\n",
       "      <td>-0.020813</td>\n",
       "      <td>0.792373</td>\n",
       "      <td>-0.100419</td>\n",
       "      <td>-0.173105</td>\n",
       "      <td>1.155072e-01</td>\n",
       "      <td>-0.087984</td>\n",
       "      <td>-0.063793</td>\n",
       "      <td>0.868993</td>\n",
       "      <td>-0.057852</td>\n",
       "      <td>-0.688133</td>\n",
       "      <td>0</td>\n",
       "    </tr>\n",
       "  </tbody>\n",
       "</table>\n",
       "<p>150000 rows × 12 columns</p>\n",
       "</div>"
      ],
      "text/plain": [
       "        CustomerID  RevolvingUtilizationOfUnsecuredLines       age  \\\n",
       "0        -1.732039                             -0.021150 -0.493860   \n",
       "1        -1.732016                             -0.020385 -0.832342   \n",
       "2        -1.731993                             -0.021582 -0.967735   \n",
       "3        -1.731970                             -0.023281 -1.509307   \n",
       "4        -1.731947                             -0.020585 -0.223074   \n",
       "...            ...                                   ...       ...   \n",
       "149995    1.731947                             -0.024055  1.469338   \n",
       "149996    1.731970                             -0.023017 -0.561556   \n",
       "149997    1.731993                             -0.023232  0.386194   \n",
       "149998    1.732016                             -0.024218 -1.509307   \n",
       "149999    1.732039                             -0.020813  0.792373   \n",
       "\n",
       "        NumberOfTime30-59DaysPastDueNotWorse  DebtRatio  MonthlyIncome  \\\n",
       "0                                   0.376593  -0.172833   1.901943e-01   \n",
       "1                                  -0.100419  -0.173168  -3.160011e-01   \n",
       "2                                   0.138087  -0.173186  -2.816854e-01   \n",
       "3                                  -0.100419  -0.173210  -2.616550e-01   \n",
       "4                                   0.138087  -0.173215   4.418944e+00   \n",
       "...                                      ...        ...            ...   \n",
       "149995                             -0.100419  -0.173117  -3.548197e-01   \n",
       "149996                             -0.100419  -0.172876  -8.433131e-02   \n",
       "149997                             -0.100419   1.725868  -2.118322e-16   \n",
       "149998                             -0.100419  -0.173228  -7.408318e-02   \n",
       "149999                             -0.100419  -0.173105   1.155072e-01   \n",
       "\n",
       "        NumberOfOpenCreditLinesAndLoans  NumberOfTimes90DaysLate  \\\n",
       "0                              0.883657                -0.063793   \n",
       "1                             -0.865297                -0.063793   \n",
       "2                             -1.253953                 0.176056   \n",
       "3                             -0.670969                -0.063793   \n",
       "4                             -0.282312                -0.063793   \n",
       "...                                 ...                      ...   \n",
       "149995                        -0.865297                -0.063793   \n",
       "149996                        -0.865297                -0.063793   \n",
       "149997                         1.855298                -0.063793   \n",
       "149998                        -0.865297                -0.063793   \n",
       "149999                        -0.087984                -0.063793   \n",
       "\n",
       "        NumberRealEstateLoansOrLines  NumberOfTime60-89DaysPastDueNotWorse  \\\n",
       "0                           4.409546                             -0.057852   \n",
       "1                          -0.901283                             -0.057852   \n",
       "2                          -0.901283                             -0.057852   \n",
       "3                          -0.901283                             -0.057852   \n",
       "4                          -0.016145                             -0.057852   \n",
       "...                              ...                                   ...   \n",
       "149995                     -0.016145                             -0.057852   \n",
       "149996                     -0.016145                             -0.057852   \n",
       "149997                     -0.016145                             -0.057852   \n",
       "149998                     -0.901283                             -0.057852   \n",
       "149999                      0.868993                             -0.057852   \n",
       "\n",
       "        NumberOfDependents  SeriousDlqin2yrs  \n",
       "0                 1.129387                 1  \n",
       "1                 0.220627                 0  \n",
       "2                -0.688133                 0  \n",
       "3                -0.688133                 0  \n",
       "4                -0.688133                 0  \n",
       "...                    ...               ...  \n",
       "149995           -0.688133                 0  \n",
       "149996            1.129387                 0  \n",
       "149997           -0.688133                 0  \n",
       "149998           -0.688133                 0  \n",
       "149999           -0.688133                 0  \n",
       "\n",
       "[150000 rows x 12 columns]"
      ]
     },
     "execution_count": 66,
     "metadata": {},
     "output_type": "execute_result"
    }
   ],
   "source": [
    "new_default_pred_df"
   ]
  },
  {
   "cell_type": "code",
   "execution_count": 67,
   "metadata": {},
   "outputs": [],
   "source": [
    "file_name = os.listdir(raw_data_dir)[0]"
   ]
  },
  {
   "cell_type": "code",
   "execution_count": 68,
   "metadata": {},
   "outputs": [
    {
     "data": {
      "text/plain": [
       "'cs-training.csv'"
      ]
     },
     "execution_count": 68,
     "metadata": {},
     "output_type": "execute_result"
    }
   ],
   "source": [
    "file_name"
   ]
  },
  {
   "cell_type": "code",
   "execution_count": 69,
   "metadata": {},
   "outputs": [],
   "source": [
    "file_path = os.path.join(raw_data_dir,file_name)"
   ]
  },
  {
   "cell_type": "code",
   "execution_count": 70,
   "metadata": {},
   "outputs": [
    {
     "data": {
      "text/plain": [
       "'d:\\\\ML Projects\\\\Credit-Card-Default-Prediction\\\\default_prediction\\\\artifact\\\\data_ingestion\\\\2022-07-30-11-31-19\\\\raw_data\\\\cs-training.csv'"
      ]
     },
     "execution_count": 70,
     "metadata": {},
     "output_type": "execute_result"
    }
   ],
   "source": [
    "file_path"
   ]
  },
  {
   "cell_type": "code",
   "execution_count": 71,
   "metadata": {},
   "outputs": [
    {
     "data": {
      "text/plain": [
       "0"
      ]
     },
     "execution_count": 71,
     "metadata": {},
     "output_type": "execute_result"
    }
   ],
   "source": [
    "new_default_pred_df[\"MonthlyIncome\"].isna().sum()"
   ]
  },
  {
   "cell_type": "code",
   "execution_count": 72,
   "metadata": {},
   "outputs": [
    {
     "data": {
      "text/plain": [
       "0         1\n",
       "1         1\n",
       "2         1\n",
       "3         1\n",
       "4         1\n",
       "         ..\n",
       "149995    1\n",
       "149996    1\n",
       "149997    1\n",
       "149998    1\n",
       "149999    1\n",
       "Name: MonthlyIncome, Length: 150000, dtype: category\n",
       "Categories (5, int64): [1 < 2 < 3 < 4 < 5]"
      ]
     },
     "execution_count": 72,
     "metadata": {},
     "output_type": "execute_result"
    }
   ],
   "source": [
    "pd.cut(\n",
    "                new_default_pred_df[\"MonthlyIncome\"],\n",
    "                bins=[-0.5, 49.5, 99.5, 149.5, 199.5, np.inf],\n",
    "                labels = [1,2,3,4,5])"
   ]
  },
  {
   "cell_type": "code",
   "execution_count": 73,
   "metadata": {},
   "outputs": [],
   "source": [
    "new_default_pred_df['income_cat'] = pd.cut(\n",
    "                new_default_pred_df[\"MonthlyIncome\"],\n",
    "                bins=[-0.5, 49.5, 99.5, 149.5, 199.5, np.inf],\n",
    "                #bins=[0.0, 1.5, 3.0, 4.5, 6.0, np.inf],\n",
    "                labels = [1,2,3,4,5]\n",
    "            )"
   ]
  },
  {
   "cell_type": "code",
   "execution_count": 74,
   "metadata": {},
   "outputs": [
    {
     "data": {
      "text/plain": [
       "0         1\n",
       "1         1\n",
       "2         1\n",
       "3         1\n",
       "4         1\n",
       "         ..\n",
       "149995    1\n",
       "149996    1\n",
       "149997    1\n",
       "149998    1\n",
       "149999    1\n",
       "Name: income_cat, Length: 150000, dtype: category\n",
       "Categories (5, int64): [1 < 2 < 3 < 4 < 5]"
      ]
     },
     "execution_count": 74,
     "metadata": {},
     "output_type": "execute_result"
    }
   ],
   "source": [
    "new_default_pred_df['income_cat']"
   ]
  },
  {
   "cell_type": "code",
   "execution_count": 75,
   "metadata": {},
   "outputs": [
    {
     "data": {
      "text/plain": [
       "0         1\n",
       "1         1\n",
       "2         1\n",
       "3         1\n",
       "4         1\n",
       "         ..\n",
       "149995    1\n",
       "149996    1\n",
       "149997    1\n",
       "149998    1\n",
       "149999    1\n",
       "Name: income_cat, Length: 150000, dtype: category\n",
       "Categories (5, int64): [1 < 2 < 3 < 4 < 5]"
      ]
     },
     "execution_count": 75,
     "metadata": {},
     "output_type": "execute_result"
    }
   ],
   "source": [
    "new_default_pred_df['income_cat']"
   ]
  },
  {
   "cell_type": "code",
   "execution_count": 76,
   "metadata": {},
   "outputs": [
    {
     "data": {
      "text/plain": [
       "2390"
      ]
     },
     "execution_count": 76,
     "metadata": {},
     "output_type": "execute_result"
    }
   ],
   "source": [
    "new_default_pred_df['income_cat'].isna().sum()"
   ]
  },
  {
   "cell_type": "code",
   "execution_count": 77,
   "metadata": {},
   "outputs": [],
   "source": [
    "si = SimpleImputer(strategy=\"mean\")"
   ]
  },
  {
   "cell_type": "code",
   "execution_count": 78,
   "metadata": {},
   "outputs": [],
   "source": [
    "income_cat_arr = si.fit_transform(new_default_pred_df[['income_cat']])"
   ]
  },
  {
   "cell_type": "code",
   "execution_count": 79,
   "metadata": {},
   "outputs": [],
   "source": [
    "new_default_pred_df['income_cat'] = pd.DataFrame(income_cat_arr)"
   ]
  },
  {
   "cell_type": "code",
   "execution_count": 80,
   "metadata": {},
   "outputs": [
    {
     "data": {
      "text/plain": [
       "0"
      ]
     },
     "execution_count": 80,
     "metadata": {},
     "output_type": "execute_result"
    }
   ],
   "source": [
    "new_default_pred_df[\"income_cat\"].isna().sum()"
   ]
  },
  {
   "cell_type": "code",
   "execution_count": 81,
   "metadata": {},
   "outputs": [],
   "source": [
    "from sklearn.model_selection import StratifiedShuffleSplit"
   ]
  },
  {
   "cell_type": "code",
   "execution_count": 82,
   "metadata": {},
   "outputs": [],
   "source": [
    "train_set = None\n",
    "test_set = None\n",
    "from sklearn.model_selection import train_test_split"
   ]
  },
  {
   "cell_type": "code",
   "execution_count": 83,
   "metadata": {},
   "outputs": [
    {
     "data": {
      "text/html": [
       "<div>\n",
       "<style scoped>\n",
       "    .dataframe tbody tr th:only-of-type {\n",
       "        vertical-align: middle;\n",
       "    }\n",
       "\n",
       "    .dataframe tbody tr th {\n",
       "        vertical-align: top;\n",
       "    }\n",
       "\n",
       "    .dataframe thead th {\n",
       "        text-align: right;\n",
       "    }\n",
       "</style>\n",
       "<table border=\"1\" class=\"dataframe\">\n",
       "  <thead>\n",
       "    <tr style=\"text-align: right;\">\n",
       "      <th></th>\n",
       "      <th>CustomerID</th>\n",
       "      <th>RevolvingUtilizationOfUnsecuredLines</th>\n",
       "      <th>age</th>\n",
       "      <th>NumberOfTime30-59DaysPastDueNotWorse</th>\n",
       "      <th>DebtRatio</th>\n",
       "      <th>MonthlyIncome</th>\n",
       "      <th>NumberOfOpenCreditLinesAndLoans</th>\n",
       "      <th>NumberOfTimes90DaysLate</th>\n",
       "      <th>NumberRealEstateLoansOrLines</th>\n",
       "      <th>NumberOfTime60-89DaysPastDueNotWorse</th>\n",
       "      <th>NumberOfDependents</th>\n",
       "      <th>SeriousDlqin2yrs</th>\n",
       "      <th>income_cat</th>\n",
       "    </tr>\n",
       "  </thead>\n",
       "  <tbody>\n",
       "    <tr>\n",
       "      <th>0</th>\n",
       "      <td>-1.732039</td>\n",
       "      <td>-0.021150</td>\n",
       "      <td>-0.493860</td>\n",
       "      <td>0.376593</td>\n",
       "      <td>-0.172833</td>\n",
       "      <td>1.901943e-01</td>\n",
       "      <td>0.883657</td>\n",
       "      <td>-0.063793</td>\n",
       "      <td>4.409546</td>\n",
       "      <td>-0.057852</td>\n",
       "      <td>1.129387</td>\n",
       "      <td>1</td>\n",
       "      <td>1.0</td>\n",
       "    </tr>\n",
       "    <tr>\n",
       "      <th>1</th>\n",
       "      <td>-1.732016</td>\n",
       "      <td>-0.020385</td>\n",
       "      <td>-0.832342</td>\n",
       "      <td>-0.100419</td>\n",
       "      <td>-0.173168</td>\n",
       "      <td>-3.160011e-01</td>\n",
       "      <td>-0.865297</td>\n",
       "      <td>-0.063793</td>\n",
       "      <td>-0.901283</td>\n",
       "      <td>-0.057852</td>\n",
       "      <td>0.220627</td>\n",
       "      <td>0</td>\n",
       "      <td>1.0</td>\n",
       "    </tr>\n",
       "    <tr>\n",
       "      <th>2</th>\n",
       "      <td>-1.731993</td>\n",
       "      <td>-0.021582</td>\n",
       "      <td>-0.967735</td>\n",
       "      <td>0.138087</td>\n",
       "      <td>-0.173186</td>\n",
       "      <td>-2.816854e-01</td>\n",
       "      <td>-1.253953</td>\n",
       "      <td>0.176056</td>\n",
       "      <td>-0.901283</td>\n",
       "      <td>-0.057852</td>\n",
       "      <td>-0.688133</td>\n",
       "      <td>0</td>\n",
       "      <td>1.0</td>\n",
       "    </tr>\n",
       "    <tr>\n",
       "      <th>3</th>\n",
       "      <td>-1.731970</td>\n",
       "      <td>-0.023281</td>\n",
       "      <td>-1.509307</td>\n",
       "      <td>-0.100419</td>\n",
       "      <td>-0.173210</td>\n",
       "      <td>-2.616550e-01</td>\n",
       "      <td>-0.670969</td>\n",
       "      <td>-0.063793</td>\n",
       "      <td>-0.901283</td>\n",
       "      <td>-0.057852</td>\n",
       "      <td>-0.688133</td>\n",
       "      <td>0</td>\n",
       "      <td>1.0</td>\n",
       "    </tr>\n",
       "    <tr>\n",
       "      <th>4</th>\n",
       "      <td>-1.731947</td>\n",
       "      <td>-0.020585</td>\n",
       "      <td>-0.223074</td>\n",
       "      <td>0.138087</td>\n",
       "      <td>-0.173215</td>\n",
       "      <td>4.418944e+00</td>\n",
       "      <td>-0.282312</td>\n",
       "      <td>-0.063793</td>\n",
       "      <td>-0.016145</td>\n",
       "      <td>-0.057852</td>\n",
       "      <td>-0.688133</td>\n",
       "      <td>0</td>\n",
       "      <td>1.0</td>\n",
       "    </tr>\n",
       "    <tr>\n",
       "      <th>...</th>\n",
       "      <td>...</td>\n",
       "      <td>...</td>\n",
       "      <td>...</td>\n",
       "      <td>...</td>\n",
       "      <td>...</td>\n",
       "      <td>...</td>\n",
       "      <td>...</td>\n",
       "      <td>...</td>\n",
       "      <td>...</td>\n",
       "      <td>...</td>\n",
       "      <td>...</td>\n",
       "      <td>...</td>\n",
       "      <td>...</td>\n",
       "    </tr>\n",
       "    <tr>\n",
       "      <th>149995</th>\n",
       "      <td>1.731947</td>\n",
       "      <td>-0.024055</td>\n",
       "      <td>1.469338</td>\n",
       "      <td>-0.100419</td>\n",
       "      <td>-0.173117</td>\n",
       "      <td>-3.548197e-01</td>\n",
       "      <td>-0.865297</td>\n",
       "      <td>-0.063793</td>\n",
       "      <td>-0.016145</td>\n",
       "      <td>-0.057852</td>\n",
       "      <td>-0.688133</td>\n",
       "      <td>0</td>\n",
       "      <td>1.0</td>\n",
       "    </tr>\n",
       "    <tr>\n",
       "      <th>149996</th>\n",
       "      <td>1.731970</td>\n",
       "      <td>-0.023017</td>\n",
       "      <td>-0.561556</td>\n",
       "      <td>-0.100419</td>\n",
       "      <td>-0.172876</td>\n",
       "      <td>-8.433131e-02</td>\n",
       "      <td>-0.865297</td>\n",
       "      <td>-0.063793</td>\n",
       "      <td>-0.016145</td>\n",
       "      <td>-0.057852</td>\n",
       "      <td>1.129387</td>\n",
       "      <td>0</td>\n",
       "      <td>1.0</td>\n",
       "    </tr>\n",
       "    <tr>\n",
       "      <th>149997</th>\n",
       "      <td>1.731993</td>\n",
       "      <td>-0.023232</td>\n",
       "      <td>0.386194</td>\n",
       "      <td>-0.100419</td>\n",
       "      <td>1.725868</td>\n",
       "      <td>-2.118322e-16</td>\n",
       "      <td>1.855298</td>\n",
       "      <td>-0.063793</td>\n",
       "      <td>-0.016145</td>\n",
       "      <td>-0.057852</td>\n",
       "      <td>-0.688133</td>\n",
       "      <td>0</td>\n",
       "      <td>1.0</td>\n",
       "    </tr>\n",
       "    <tr>\n",
       "      <th>149998</th>\n",
       "      <td>1.732016</td>\n",
       "      <td>-0.024218</td>\n",
       "      <td>-1.509307</td>\n",
       "      <td>-0.100419</td>\n",
       "      <td>-0.173228</td>\n",
       "      <td>-7.408318e-02</td>\n",
       "      <td>-0.865297</td>\n",
       "      <td>-0.063793</td>\n",
       "      <td>-0.901283</td>\n",
       "      <td>-0.057852</td>\n",
       "      <td>-0.688133</td>\n",
       "      <td>0</td>\n",
       "      <td>1.0</td>\n",
       "    </tr>\n",
       "    <tr>\n",
       "      <th>149999</th>\n",
       "      <td>1.732039</td>\n",
       "      <td>-0.020813</td>\n",
       "      <td>0.792373</td>\n",
       "      <td>-0.100419</td>\n",
       "      <td>-0.173105</td>\n",
       "      <td>1.155072e-01</td>\n",
       "      <td>-0.087984</td>\n",
       "      <td>-0.063793</td>\n",
       "      <td>0.868993</td>\n",
       "      <td>-0.057852</td>\n",
       "      <td>-0.688133</td>\n",
       "      <td>0</td>\n",
       "      <td>1.0</td>\n",
       "    </tr>\n",
       "  </tbody>\n",
       "</table>\n",
       "<p>150000 rows × 13 columns</p>\n",
       "</div>"
      ],
      "text/plain": [
       "        CustomerID  RevolvingUtilizationOfUnsecuredLines       age  \\\n",
       "0        -1.732039                             -0.021150 -0.493860   \n",
       "1        -1.732016                             -0.020385 -0.832342   \n",
       "2        -1.731993                             -0.021582 -0.967735   \n",
       "3        -1.731970                             -0.023281 -1.509307   \n",
       "4        -1.731947                             -0.020585 -0.223074   \n",
       "...            ...                                   ...       ...   \n",
       "149995    1.731947                             -0.024055  1.469338   \n",
       "149996    1.731970                             -0.023017 -0.561556   \n",
       "149997    1.731993                             -0.023232  0.386194   \n",
       "149998    1.732016                             -0.024218 -1.509307   \n",
       "149999    1.732039                             -0.020813  0.792373   \n",
       "\n",
       "        NumberOfTime30-59DaysPastDueNotWorse  DebtRatio  MonthlyIncome  \\\n",
       "0                                   0.376593  -0.172833   1.901943e-01   \n",
       "1                                  -0.100419  -0.173168  -3.160011e-01   \n",
       "2                                   0.138087  -0.173186  -2.816854e-01   \n",
       "3                                  -0.100419  -0.173210  -2.616550e-01   \n",
       "4                                   0.138087  -0.173215   4.418944e+00   \n",
       "...                                      ...        ...            ...   \n",
       "149995                             -0.100419  -0.173117  -3.548197e-01   \n",
       "149996                             -0.100419  -0.172876  -8.433131e-02   \n",
       "149997                             -0.100419   1.725868  -2.118322e-16   \n",
       "149998                             -0.100419  -0.173228  -7.408318e-02   \n",
       "149999                             -0.100419  -0.173105   1.155072e-01   \n",
       "\n",
       "        NumberOfOpenCreditLinesAndLoans  NumberOfTimes90DaysLate  \\\n",
       "0                              0.883657                -0.063793   \n",
       "1                             -0.865297                -0.063793   \n",
       "2                             -1.253953                 0.176056   \n",
       "3                             -0.670969                -0.063793   \n",
       "4                             -0.282312                -0.063793   \n",
       "...                                 ...                      ...   \n",
       "149995                        -0.865297                -0.063793   \n",
       "149996                        -0.865297                -0.063793   \n",
       "149997                         1.855298                -0.063793   \n",
       "149998                        -0.865297                -0.063793   \n",
       "149999                        -0.087984                -0.063793   \n",
       "\n",
       "        NumberRealEstateLoansOrLines  NumberOfTime60-89DaysPastDueNotWorse  \\\n",
       "0                           4.409546                             -0.057852   \n",
       "1                          -0.901283                             -0.057852   \n",
       "2                          -0.901283                             -0.057852   \n",
       "3                          -0.901283                             -0.057852   \n",
       "4                          -0.016145                             -0.057852   \n",
       "...                              ...                                   ...   \n",
       "149995                     -0.016145                             -0.057852   \n",
       "149996                     -0.016145                             -0.057852   \n",
       "149997                     -0.016145                             -0.057852   \n",
       "149998                     -0.901283                             -0.057852   \n",
       "149999                      0.868993                             -0.057852   \n",
       "\n",
       "        NumberOfDependents  SeriousDlqin2yrs  income_cat  \n",
       "0                 1.129387                 1         1.0  \n",
       "1                 0.220627                 0         1.0  \n",
       "2                -0.688133                 0         1.0  \n",
       "3                -0.688133                 0         1.0  \n",
       "4                -0.688133                 0         1.0  \n",
       "...                    ...               ...         ...  \n",
       "149995           -0.688133                 0         1.0  \n",
       "149996            1.129387                 0         1.0  \n",
       "149997           -0.688133                 0         1.0  \n",
       "149998           -0.688133                 0         1.0  \n",
       "149999           -0.688133                 0         1.0  \n",
       "\n",
       "[150000 rows x 13 columns]"
      ]
     },
     "execution_count": 83,
     "metadata": {},
     "output_type": "execute_result"
    }
   ],
   "source": [
    "new_default_pred_df"
   ]
  },
  {
   "cell_type": "code",
   "execution_count": 84,
   "metadata": {},
   "outputs": [
    {
     "data": {
      "text/plain": [
       "CustomerID                              0\n",
       "RevolvingUtilizationOfUnsecuredLines    0\n",
       "age                                     0\n",
       "NumberOfTime30-59DaysPastDueNotWorse    0\n",
       "DebtRatio                               0\n",
       "MonthlyIncome                           0\n",
       "NumberOfOpenCreditLinesAndLoans         0\n",
       "NumberOfTimes90DaysLate                 0\n",
       "NumberRealEstateLoansOrLines            0\n",
       "NumberOfTime60-89DaysPastDueNotWorse    0\n",
       "NumberOfDependents                      0\n",
       "SeriousDlqin2yrs                        0\n",
       "income_cat                              0\n",
       "dtype: int64"
      ]
     },
     "execution_count": 84,
     "metadata": {},
     "output_type": "execute_result"
    }
   ],
   "source": [
    "new_default_pred_df.isna().sum()"
   ]
  },
  {
   "cell_type": "code",
   "execution_count": 85,
   "metadata": {},
   "outputs": [],
   "source": [
    "X = new_default_pred_df.drop(columns = \"SeriousDlqin2yrs\" , axis=1)"
   ]
  },
  {
   "cell_type": "code",
   "execution_count": 86,
   "metadata": {},
   "outputs": [],
   "source": [
    "y = df[\"SeriousDlqin2yrs\"]"
   ]
  },
  {
   "cell_type": "code",
   "execution_count": 87,
   "metadata": {},
   "outputs": [
    {
     "data": {
      "text/plain": [
       "CustomerID                              0\n",
       "RevolvingUtilizationOfUnsecuredLines    0\n",
       "age                                     0\n",
       "NumberOfTime30-59DaysPastDueNotWorse    0\n",
       "DebtRatio                               0\n",
       "MonthlyIncome                           0\n",
       "NumberOfOpenCreditLinesAndLoans         0\n",
       "NumberOfTimes90DaysLate                 0\n",
       "NumberRealEstateLoansOrLines            0\n",
       "NumberOfTime60-89DaysPastDueNotWorse    0\n",
       "NumberOfDependents                      0\n",
       "income_cat                              0\n",
       "dtype: int64"
      ]
     },
     "execution_count": 87,
     "metadata": {},
     "output_type": "execute_result"
    }
   ],
   "source": [
    "X.isna().sum()"
   ]
  },
  {
   "cell_type": "code",
   "execution_count": 88,
   "metadata": {},
   "outputs": [
    {
     "data": {
      "text/plain": [
       "0"
      ]
     },
     "execution_count": 88,
     "metadata": {},
     "output_type": "execute_result"
    }
   ],
   "source": [
    "y.isna().sum()"
   ]
  },
  {
   "cell_type": "code",
   "execution_count": 89,
   "metadata": {},
   "outputs": [],
   "source": [
    "x_train,x_test,y_train,y_test = train_test_split(X,y,test_size=0.2,random_state=42)"
   ]
  },
  {
   "cell_type": "code",
   "execution_count": 90,
   "metadata": {},
   "outputs": [],
   "source": [
    "train_set = pd.concat([x_train,x_test],axis=1)"
   ]
  },
  {
   "cell_type": "code",
   "execution_count": 91,
   "metadata": {},
   "outputs": [
    {
     "data": {
      "text/plain": [
       "(150000, 13)"
      ]
     },
     "execution_count": 91,
     "metadata": {},
     "output_type": "execute_result"
    }
   ],
   "source": [
    "new_default_pred_df.shape"
   ]
  },
  {
   "cell_type": "code",
   "execution_count": 92,
   "metadata": {},
   "outputs": [
    {
     "data": {
      "text/plain": [
       "(120000, 13)"
      ]
     },
     "execution_count": 92,
     "metadata": {},
     "output_type": "execute_result"
    }
   ],
   "source": [
    "new_default_pred_df[:120000].shape"
   ]
  },
  {
   "cell_type": "code",
   "execution_count": 93,
   "metadata": {},
   "outputs": [],
   "source": [
    "def get_dowloaded_data():\n",
    "\n",
    "    try:\n",
    "        download_url = data_ingestion_config.data_download_url\n",
    "\n",
    "        csv_download_dir = data_ingestion_config.csv_download_dir\n",
    "\n",
    "        #if os.path.exists(csv_download_dir):\n",
    "            #os.remove(csv_download_dir)\n",
    "\n",
    "        os.makedirs(csv_download_dir,exist_ok=True)\n",
    "\n",
    "        csv_file_name = os.path.basename(download_url)\n",
    "\n",
    "        csv_file_path = os.path.join(csv_download_dir,csv_file_name)\n",
    "\n",
    "        urllib.request.urlretrieve(download_url,csv_file_path)\n",
    "\n",
    "        return csv_file_path\n",
    "\n",
    "    except Exception as e:\n",
    "        raise e\n",
    "\n",
    "        \n"
   ]
  },
  {
   "cell_type": "code",
   "execution_count": 94,
   "metadata": {},
   "outputs": [],
   "source": [
    "csv_file_path = get_dowloaded_data()"
   ]
  },
  {
   "cell_type": "code",
   "execution_count": 95,
   "metadata": {},
   "outputs": [
    {
     "data": {
      "text/plain": [
       "'d:\\\\ML Projects\\\\Credit-Card-Default-Prediction\\\\default_prediction\\\\artifact\\\\data_ingestion\\\\2022-07-30-11-31-19\\\\csv_data\\\\cs-training.csv'"
      ]
     },
     "execution_count": 95,
     "metadata": {},
     "output_type": "execute_result"
    }
   ],
   "source": [
    "csv_file_path"
   ]
  },
  {
   "cell_type": "code",
   "execution_count": 96,
   "metadata": {},
   "outputs": [],
   "source": [
    "from default_prediction.exception import ExceptionHandler\n",
    "from default_prediction.logger import logging\n",
    "import sys"
   ]
  },
  {
   "cell_type": "code",
   "execution_count": 97,
   "metadata": {},
   "outputs": [],
   "source": [
    "def get_raw_csv_data():\n",
    "        try:\n",
    "            raw_data_dir = data_ingestion_config.raw_data_dir\n",
    "\n",
    "            if os.path.exists(raw_data_dir):\n",
    "                os.remove(raw_data_dir)\n",
    "            os.makedirs(raw_data_dir,exist_ok=True)\n",
    "\n",
    "            csv_dir_path = data_ingestion_config.csv_download_dir\n",
    "\n",
    "            download_url = data_ingestion_config.data_download_url\n",
    "\n",
    "            file_name = os.path.basename(download_url)\n",
    "\n",
    "            file_path = os.path.join(raw_data_dir,file_name)\n",
    "\n",
    "            urllib.request.urlretrieve(download_url,file_path)\n",
    "\n",
    "            #shutil.copy(csv_dir_path,raw_data_dir)\n",
    "\n",
    "            raw_data_dir\n",
    "        except Exception as e:\n",
    "            raise ExceptionHandler(e,sys) from e"
   ]
  },
  {
   "cell_type": "code",
   "execution_count": 98,
   "metadata": {},
   "outputs": [
    {
     "data": {
      "text/plain": [
       "['cs-training.csv']"
      ]
     },
     "execution_count": 98,
     "metadata": {},
     "output_type": "execute_result"
    }
   ],
   "source": [
    "os.listdir(raw_data_dir)"
   ]
  },
  {
   "cell_type": "code",
   "execution_count": 99,
   "metadata": {},
   "outputs": [],
   "source": [
    "def split_into_train_and_test_data():\n",
    "        try:\n",
    "            raw_data_dir = data_ingestion_config.raw_data_dir\n",
    "\n",
    "            file_name = os.listdir(raw_data_dir)[0]\n",
    "\n",
    "            file_path = os.path.join(raw_data_dir,file_name)\n",
    "\n",
    "            default_prediction_dataframe = pd.read_csv(file_path)\n",
    "\n",
    "            train_set = default_prediction_dataframe[:120000]\n",
    "\n",
    "            test_set = default_prediction_dataframe[120000:]\n",
    "\n",
    "            return train_set,test_set\n",
    "\n",
    "        except Exception as e:\n",
    "            raise ExceptionHandler(e,sys) from e"
   ]
  },
  {
   "cell_type": "code",
   "execution_count": 100,
   "metadata": {},
   "outputs": [],
   "source": [
    "train_set,test_set = split_into_train_and_test_data()"
   ]
  },
  {
   "cell_type": "code",
   "execution_count": 101,
   "metadata": {},
   "outputs": [
    {
     "data": {
      "text/html": [
       "<div>\n",
       "<style scoped>\n",
       "    .dataframe tbody tr th:only-of-type {\n",
       "        vertical-align: middle;\n",
       "    }\n",
       "\n",
       "    .dataframe tbody tr th {\n",
       "        vertical-align: top;\n",
       "    }\n",
       "\n",
       "    .dataframe thead th {\n",
       "        text-align: right;\n",
       "    }\n",
       "</style>\n",
       "<table border=\"1\" class=\"dataframe\">\n",
       "  <thead>\n",
       "    <tr style=\"text-align: right;\">\n",
       "      <th></th>\n",
       "      <th>Unnamed: 0</th>\n",
       "      <th>SeriousDlqin2yrs</th>\n",
       "      <th>RevolvingUtilizationOfUnsecuredLines</th>\n",
       "      <th>age</th>\n",
       "      <th>NumberOfTime30-59DaysPastDueNotWorse</th>\n",
       "      <th>DebtRatio</th>\n",
       "      <th>MonthlyIncome</th>\n",
       "      <th>NumberOfOpenCreditLinesAndLoans</th>\n",
       "      <th>NumberOfTimes90DaysLate</th>\n",
       "      <th>NumberRealEstateLoansOrLines</th>\n",
       "      <th>NumberOfTime60-89DaysPastDueNotWorse</th>\n",
       "      <th>NumberOfDependents</th>\n",
       "    </tr>\n",
       "  </thead>\n",
       "  <tbody>\n",
       "    <tr>\n",
       "      <th>0</th>\n",
       "      <td>1</td>\n",
       "      <td>1</td>\n",
       "      <td>0.766127</td>\n",
       "      <td>45</td>\n",
       "      <td>2</td>\n",
       "      <td>0.802982</td>\n",
       "      <td>9120.0</td>\n",
       "      <td>13</td>\n",
       "      <td>0</td>\n",
       "      <td>6</td>\n",
       "      <td>0</td>\n",
       "      <td>2.0</td>\n",
       "    </tr>\n",
       "    <tr>\n",
       "      <th>1</th>\n",
       "      <td>2</td>\n",
       "      <td>0</td>\n",
       "      <td>0.957151</td>\n",
       "      <td>40</td>\n",
       "      <td>0</td>\n",
       "      <td>0.121876</td>\n",
       "      <td>2600.0</td>\n",
       "      <td>4</td>\n",
       "      <td>0</td>\n",
       "      <td>0</td>\n",
       "      <td>0</td>\n",
       "      <td>1.0</td>\n",
       "    </tr>\n",
       "    <tr>\n",
       "      <th>2</th>\n",
       "      <td>3</td>\n",
       "      <td>0</td>\n",
       "      <td>0.658180</td>\n",
       "      <td>38</td>\n",
       "      <td>1</td>\n",
       "      <td>0.085113</td>\n",
       "      <td>3042.0</td>\n",
       "      <td>2</td>\n",
       "      <td>1</td>\n",
       "      <td>0</td>\n",
       "      <td>0</td>\n",
       "      <td>0.0</td>\n",
       "    </tr>\n",
       "    <tr>\n",
       "      <th>3</th>\n",
       "      <td>4</td>\n",
       "      <td>0</td>\n",
       "      <td>0.233810</td>\n",
       "      <td>30</td>\n",
       "      <td>0</td>\n",
       "      <td>0.036050</td>\n",
       "      <td>3300.0</td>\n",
       "      <td>5</td>\n",
       "      <td>0</td>\n",
       "      <td>0</td>\n",
       "      <td>0</td>\n",
       "      <td>0.0</td>\n",
       "    </tr>\n",
       "    <tr>\n",
       "      <th>4</th>\n",
       "      <td>5</td>\n",
       "      <td>0</td>\n",
       "      <td>0.907239</td>\n",
       "      <td>49</td>\n",
       "      <td>1</td>\n",
       "      <td>0.024926</td>\n",
       "      <td>63588.0</td>\n",
       "      <td>7</td>\n",
       "      <td>0</td>\n",
       "      <td>1</td>\n",
       "      <td>0</td>\n",
       "      <td>0.0</td>\n",
       "    </tr>\n",
       "    <tr>\n",
       "      <th>...</th>\n",
       "      <td>...</td>\n",
       "      <td>...</td>\n",
       "      <td>...</td>\n",
       "      <td>...</td>\n",
       "      <td>...</td>\n",
       "      <td>...</td>\n",
       "      <td>...</td>\n",
       "      <td>...</td>\n",
       "      <td>...</td>\n",
       "      <td>...</td>\n",
       "      <td>...</td>\n",
       "      <td>...</td>\n",
       "    </tr>\n",
       "    <tr>\n",
       "      <th>119995</th>\n",
       "      <td>119996</td>\n",
       "      <td>0</td>\n",
       "      <td>0.005485</td>\n",
       "      <td>77</td>\n",
       "      <td>0</td>\n",
       "      <td>0.240390</td>\n",
       "      <td>3381.0</td>\n",
       "      <td>8</td>\n",
       "      <td>1</td>\n",
       "      <td>0</td>\n",
       "      <td>0</td>\n",
       "      <td>1.0</td>\n",
       "    </tr>\n",
       "    <tr>\n",
       "      <th>119996</th>\n",
       "      <td>119997</td>\n",
       "      <td>0</td>\n",
       "      <td>0.570215</td>\n",
       "      <td>29</td>\n",
       "      <td>2</td>\n",
       "      <td>0.195110</td>\n",
       "      <td>2126.0</td>\n",
       "      <td>3</td>\n",
       "      <td>0</td>\n",
       "      <td>0</td>\n",
       "      <td>0</td>\n",
       "      <td>0.0</td>\n",
       "    </tr>\n",
       "    <tr>\n",
       "      <th>119997</th>\n",
       "      <td>119998</td>\n",
       "      <td>0</td>\n",
       "      <td>0.541831</td>\n",
       "      <td>68</td>\n",
       "      <td>0</td>\n",
       "      <td>0.184111</td>\n",
       "      <td>9515.0</td>\n",
       "      <td>22</td>\n",
       "      <td>0</td>\n",
       "      <td>1</td>\n",
       "      <td>0</td>\n",
       "      <td>0.0</td>\n",
       "    </tr>\n",
       "    <tr>\n",
       "      <th>119998</th>\n",
       "      <td>119999</td>\n",
       "      <td>0</td>\n",
       "      <td>0.311650</td>\n",
       "      <td>69</td>\n",
       "      <td>0</td>\n",
       "      <td>0.478964</td>\n",
       "      <td>6797.0</td>\n",
       "      <td>15</td>\n",
       "      <td>0</td>\n",
       "      <td>1</td>\n",
       "      <td>0</td>\n",
       "      <td>0.0</td>\n",
       "    </tr>\n",
       "    <tr>\n",
       "      <th>119999</th>\n",
       "      <td>120000</td>\n",
       "      <td>0</td>\n",
       "      <td>0.098228</td>\n",
       "      <td>47</td>\n",
       "      <td>0</td>\n",
       "      <td>0.365059</td>\n",
       "      <td>2300.0</td>\n",
       "      <td>6</td>\n",
       "      <td>0</td>\n",
       "      <td>1</td>\n",
       "      <td>0</td>\n",
       "      <td>1.0</td>\n",
       "    </tr>\n",
       "  </tbody>\n",
       "</table>\n",
       "<p>120000 rows × 12 columns</p>\n",
       "</div>"
      ],
      "text/plain": [
       "        Unnamed: 0  SeriousDlqin2yrs  RevolvingUtilizationOfUnsecuredLines  \\\n",
       "0                1                 1                              0.766127   \n",
       "1                2                 0                              0.957151   \n",
       "2                3                 0                              0.658180   \n",
       "3                4                 0                              0.233810   \n",
       "4                5                 0                              0.907239   \n",
       "...            ...               ...                                   ...   \n",
       "119995      119996                 0                              0.005485   \n",
       "119996      119997                 0                              0.570215   \n",
       "119997      119998                 0                              0.541831   \n",
       "119998      119999                 0                              0.311650   \n",
       "119999      120000                 0                              0.098228   \n",
       "\n",
       "        age  NumberOfTime30-59DaysPastDueNotWorse  DebtRatio  MonthlyIncome  \\\n",
       "0        45                                     2   0.802982         9120.0   \n",
       "1        40                                     0   0.121876         2600.0   \n",
       "2        38                                     1   0.085113         3042.0   \n",
       "3        30                                     0   0.036050         3300.0   \n",
       "4        49                                     1   0.024926        63588.0   \n",
       "...     ...                                   ...        ...            ...   \n",
       "119995   77                                     0   0.240390         3381.0   \n",
       "119996   29                                     2   0.195110         2126.0   \n",
       "119997   68                                     0   0.184111         9515.0   \n",
       "119998   69                                     0   0.478964         6797.0   \n",
       "119999   47                                     0   0.365059         2300.0   \n",
       "\n",
       "        NumberOfOpenCreditLinesAndLoans  NumberOfTimes90DaysLate  \\\n",
       "0                                    13                        0   \n",
       "1                                     4                        0   \n",
       "2                                     2                        1   \n",
       "3                                     5                        0   \n",
       "4                                     7                        0   \n",
       "...                                 ...                      ...   \n",
       "119995                                8                        1   \n",
       "119996                                3                        0   \n",
       "119997                               22                        0   \n",
       "119998                               15                        0   \n",
       "119999                                6                        0   \n",
       "\n",
       "        NumberRealEstateLoansOrLines  NumberOfTime60-89DaysPastDueNotWorse  \\\n",
       "0                                  6                                     0   \n",
       "1                                  0                                     0   \n",
       "2                                  0                                     0   \n",
       "3                                  0                                     0   \n",
       "4                                  1                                     0   \n",
       "...                              ...                                   ...   \n",
       "119995                             0                                     0   \n",
       "119996                             0                                     0   \n",
       "119997                             1                                     0   \n",
       "119998                             1                                     0   \n",
       "119999                             1                                     0   \n",
       "\n",
       "        NumberOfDependents  \n",
       "0                      2.0  \n",
       "1                      1.0  \n",
       "2                      0.0  \n",
       "3                      0.0  \n",
       "4                      0.0  \n",
       "...                    ...  \n",
       "119995                 1.0  \n",
       "119996                 0.0  \n",
       "119997                 0.0  \n",
       "119998                 0.0  \n",
       "119999                 1.0  \n",
       "\n",
       "[120000 rows x 12 columns]"
      ]
     },
     "execution_count": 101,
     "metadata": {},
     "output_type": "execute_result"
    }
   ],
   "source": [
    "train_set"
   ]
  },
  {
   "cell_type": "code",
   "execution_count": 102,
   "metadata": {},
   "outputs": [
    {
     "data": {
      "text/html": [
       "<div>\n",
       "<style scoped>\n",
       "    .dataframe tbody tr th:only-of-type {\n",
       "        vertical-align: middle;\n",
       "    }\n",
       "\n",
       "    .dataframe tbody tr th {\n",
       "        vertical-align: top;\n",
       "    }\n",
       "\n",
       "    .dataframe thead th {\n",
       "        text-align: right;\n",
       "    }\n",
       "</style>\n",
       "<table border=\"1\" class=\"dataframe\">\n",
       "  <thead>\n",
       "    <tr style=\"text-align: right;\">\n",
       "      <th></th>\n",
       "      <th>Unnamed: 0</th>\n",
       "      <th>SeriousDlqin2yrs</th>\n",
       "      <th>RevolvingUtilizationOfUnsecuredLines</th>\n",
       "      <th>age</th>\n",
       "      <th>NumberOfTime30-59DaysPastDueNotWorse</th>\n",
       "      <th>DebtRatio</th>\n",
       "      <th>MonthlyIncome</th>\n",
       "      <th>NumberOfOpenCreditLinesAndLoans</th>\n",
       "      <th>NumberOfTimes90DaysLate</th>\n",
       "      <th>NumberRealEstateLoansOrLines</th>\n",
       "      <th>NumberOfTime60-89DaysPastDueNotWorse</th>\n",
       "      <th>NumberOfDependents</th>\n",
       "    </tr>\n",
       "  </thead>\n",
       "  <tbody>\n",
       "    <tr>\n",
       "      <th>120000</th>\n",
       "      <td>120001</td>\n",
       "      <td>0</td>\n",
       "      <td>0.230158</td>\n",
       "      <td>47</td>\n",
       "      <td>0</td>\n",
       "      <td>0.392321</td>\n",
       "      <td>7266.0</td>\n",
       "      <td>16</td>\n",
       "      <td>0</td>\n",
       "      <td>1</td>\n",
       "      <td>0</td>\n",
       "      <td>2.0</td>\n",
       "    </tr>\n",
       "    <tr>\n",
       "      <th>120001</th>\n",
       "      <td>120002</td>\n",
       "      <td>1</td>\n",
       "      <td>0.914034</td>\n",
       "      <td>55</td>\n",
       "      <td>0</td>\n",
       "      <td>0.523095</td>\n",
       "      <td>3333.0</td>\n",
       "      <td>5</td>\n",
       "      <td>1</td>\n",
       "      <td>1</td>\n",
       "      <td>0</td>\n",
       "      <td>2.0</td>\n",
       "    </tr>\n",
       "    <tr>\n",
       "      <th>120002</th>\n",
       "      <td>120003</td>\n",
       "      <td>0</td>\n",
       "      <td>0.324668</td>\n",
       "      <td>59</td>\n",
       "      <td>3</td>\n",
       "      <td>0.246002</td>\n",
       "      <td>9316.0</td>\n",
       "      <td>9</td>\n",
       "      <td>0</td>\n",
       "      <td>1</td>\n",
       "      <td>1</td>\n",
       "      <td>2.0</td>\n",
       "    </tr>\n",
       "    <tr>\n",
       "      <th>120003</th>\n",
       "      <td>120004</td>\n",
       "      <td>0</td>\n",
       "      <td>0.016025</td>\n",
       "      <td>85</td>\n",
       "      <td>0</td>\n",
       "      <td>0.004499</td>\n",
       "      <td>4000.0</td>\n",
       "      <td>3</td>\n",
       "      <td>0</td>\n",
       "      <td>0</td>\n",
       "      <td>0</td>\n",
       "      <td>0.0</td>\n",
       "    </tr>\n",
       "    <tr>\n",
       "      <th>120004</th>\n",
       "      <td>120005</td>\n",
       "      <td>0</td>\n",
       "      <td>0.004589</td>\n",
       "      <td>84</td>\n",
       "      <td>0</td>\n",
       "      <td>4737.000000</td>\n",
       "      <td>NaN</td>\n",
       "      <td>9</td>\n",
       "      <td>0</td>\n",
       "      <td>3</td>\n",
       "      <td>0</td>\n",
       "      <td>NaN</td>\n",
       "    </tr>\n",
       "    <tr>\n",
       "      <th>...</th>\n",
       "      <td>...</td>\n",
       "      <td>...</td>\n",
       "      <td>...</td>\n",
       "      <td>...</td>\n",
       "      <td>...</td>\n",
       "      <td>...</td>\n",
       "      <td>...</td>\n",
       "      <td>...</td>\n",
       "      <td>...</td>\n",
       "      <td>...</td>\n",
       "      <td>...</td>\n",
       "      <td>...</td>\n",
       "    </tr>\n",
       "    <tr>\n",
       "      <th>149995</th>\n",
       "      <td>149996</td>\n",
       "      <td>0</td>\n",
       "      <td>0.040674</td>\n",
       "      <td>74</td>\n",
       "      <td>0</td>\n",
       "      <td>0.225131</td>\n",
       "      <td>2100.0</td>\n",
       "      <td>4</td>\n",
       "      <td>0</td>\n",
       "      <td>1</td>\n",
       "      <td>0</td>\n",
       "      <td>0.0</td>\n",
       "    </tr>\n",
       "    <tr>\n",
       "      <th>149996</th>\n",
       "      <td>149997</td>\n",
       "      <td>0</td>\n",
       "      <td>0.299745</td>\n",
       "      <td>44</td>\n",
       "      <td>0</td>\n",
       "      <td>0.716562</td>\n",
       "      <td>5584.0</td>\n",
       "      <td>4</td>\n",
       "      <td>0</td>\n",
       "      <td>1</td>\n",
       "      <td>0</td>\n",
       "      <td>2.0</td>\n",
       "    </tr>\n",
       "    <tr>\n",
       "      <th>149997</th>\n",
       "      <td>149998</td>\n",
       "      <td>0</td>\n",
       "      <td>0.246044</td>\n",
       "      <td>58</td>\n",
       "      <td>0</td>\n",
       "      <td>3870.000000</td>\n",
       "      <td>NaN</td>\n",
       "      <td>18</td>\n",
       "      <td>0</td>\n",
       "      <td>1</td>\n",
       "      <td>0</td>\n",
       "      <td>0.0</td>\n",
       "    </tr>\n",
       "    <tr>\n",
       "      <th>149998</th>\n",
       "      <td>149999</td>\n",
       "      <td>0</td>\n",
       "      <td>0.000000</td>\n",
       "      <td>30</td>\n",
       "      <td>0</td>\n",
       "      <td>0.000000</td>\n",
       "      <td>5716.0</td>\n",
       "      <td>4</td>\n",
       "      <td>0</td>\n",
       "      <td>0</td>\n",
       "      <td>0</td>\n",
       "      <td>0.0</td>\n",
       "    </tr>\n",
       "    <tr>\n",
       "      <th>149999</th>\n",
       "      <td>150000</td>\n",
       "      <td>0</td>\n",
       "      <td>0.850283</td>\n",
       "      <td>64</td>\n",
       "      <td>0</td>\n",
       "      <td>0.249908</td>\n",
       "      <td>8158.0</td>\n",
       "      <td>8</td>\n",
       "      <td>0</td>\n",
       "      <td>2</td>\n",
       "      <td>0</td>\n",
       "      <td>0.0</td>\n",
       "    </tr>\n",
       "  </tbody>\n",
       "</table>\n",
       "<p>30000 rows × 12 columns</p>\n",
       "</div>"
      ],
      "text/plain": [
       "        Unnamed: 0  SeriousDlqin2yrs  RevolvingUtilizationOfUnsecuredLines  \\\n",
       "120000      120001                 0                              0.230158   \n",
       "120001      120002                 1                              0.914034   \n",
       "120002      120003                 0                              0.324668   \n",
       "120003      120004                 0                              0.016025   \n",
       "120004      120005                 0                              0.004589   \n",
       "...            ...               ...                                   ...   \n",
       "149995      149996                 0                              0.040674   \n",
       "149996      149997                 0                              0.299745   \n",
       "149997      149998                 0                              0.246044   \n",
       "149998      149999                 0                              0.000000   \n",
       "149999      150000                 0                              0.850283   \n",
       "\n",
       "        age  NumberOfTime30-59DaysPastDueNotWorse    DebtRatio  MonthlyIncome  \\\n",
       "120000   47                                     0     0.392321         7266.0   \n",
       "120001   55                                     0     0.523095         3333.0   \n",
       "120002   59                                     3     0.246002         9316.0   \n",
       "120003   85                                     0     0.004499         4000.0   \n",
       "120004   84                                     0  4737.000000            NaN   \n",
       "...     ...                                   ...          ...            ...   \n",
       "149995   74                                     0     0.225131         2100.0   \n",
       "149996   44                                     0     0.716562         5584.0   \n",
       "149997   58                                     0  3870.000000            NaN   \n",
       "149998   30                                     0     0.000000         5716.0   \n",
       "149999   64                                     0     0.249908         8158.0   \n",
       "\n",
       "        NumberOfOpenCreditLinesAndLoans  NumberOfTimes90DaysLate  \\\n",
       "120000                               16                        0   \n",
       "120001                                5                        1   \n",
       "120002                                9                        0   \n",
       "120003                                3                        0   \n",
       "120004                                9                        0   \n",
       "...                                 ...                      ...   \n",
       "149995                                4                        0   \n",
       "149996                                4                        0   \n",
       "149997                               18                        0   \n",
       "149998                                4                        0   \n",
       "149999                                8                        0   \n",
       "\n",
       "        NumberRealEstateLoansOrLines  NumberOfTime60-89DaysPastDueNotWorse  \\\n",
       "120000                             1                                     0   \n",
       "120001                             1                                     0   \n",
       "120002                             1                                     1   \n",
       "120003                             0                                     0   \n",
       "120004                             3                                     0   \n",
       "...                              ...                                   ...   \n",
       "149995                             1                                     0   \n",
       "149996                             1                                     0   \n",
       "149997                             1                                     0   \n",
       "149998                             0                                     0   \n",
       "149999                             2                                     0   \n",
       "\n",
       "        NumberOfDependents  \n",
       "120000                 2.0  \n",
       "120001                 2.0  \n",
       "120002                 2.0  \n",
       "120003                 0.0  \n",
       "120004                 NaN  \n",
       "...                    ...  \n",
       "149995                 0.0  \n",
       "149996                 2.0  \n",
       "149997                 0.0  \n",
       "149998                 0.0  \n",
       "149999                 0.0  \n",
       "\n",
       "[30000 rows x 12 columns]"
      ]
     },
     "execution_count": 102,
     "metadata": {},
     "output_type": "execute_result"
    }
   ],
   "source": [
    "test_set"
   ]
  },
  {
   "cell_type": "code",
   "execution_count": 103,
   "metadata": {},
   "outputs": [],
   "source": [
    "from default_prediction.entity.artifact_entity import DataIngestionArtifact"
   ]
  },
  {
   "cell_type": "code",
   "execution_count": 104,
   "metadata": {},
   "outputs": [],
   "source": [
    "def initiate_data_ingestion()->DataIngestionArtifact:\n",
    "        try:\n",
    "            train_set,test_set = split_into_train_and_test_data()\n",
    "\n",
    "            ingested_test_dir = data_ingestion_config.ingested_test_dir\n",
    "            ingested_train_dir = data_ingestion_config.ingested_train_dir\n",
    "\n",
    "            raw_data_dir = data_ingestion_config.raw_data_dir\n",
    "            file_name = os.listdir(raw_data_dir)[0]\n",
    "            train_file_path = os.path.join(ingested_train_dir,file_name)\n",
    "\n",
    "            os.makedirs(train_file_path,exist_ok=True)\n",
    "            logging.info(f\"Exporting Training Dataset To file:[{train_file_path}]\")\n",
    "\n",
    "            test_file_path = os.path.join(ingested_test_dir,file_name)\n",
    "\n",
    "            os.makedirs(test_file_path,exist_ok=True)\n",
    "            logging.info(f\"Exporting Test Dataset To file:[{test_file_path}]\")\n",
    "\n",
    "            train_arr_data = train_set.to_numpy()\n",
    "\n",
    "            np.save(train_file_path,train_arr_data)\n",
    "\n",
    "            test_arr_data = test_set.to_numpy()\n",
    "\n",
    "            np.save(test_file_path,test_arr_data)\n",
    "\n",
    "            is_ingested = True\n",
    "\n",
    "            message = \"Data Ingestion Completed Successfuly\"\n",
    "\n",
    "            data_ingestion_artifact = DataIngestionArtifact(\n",
    "                train_file_path, \n",
    "                test_file_path, \n",
    "                is_ingested, \n",
    "                message\n",
    "            )\n",
    "\n",
    "            logging.info(f\"data_ingestion_artifact is : [{data_ingestion_artifact}]\")\n",
    "\n",
    "            return data_ingestion_artifact\n",
    "        except Exception as e:\n",
    "            raise ExceptionHandler(e,sys) from e\n"
   ]
  },
  {
   "cell_type": "code",
   "execution_count": 105,
   "metadata": {},
   "outputs": [],
   "source": [
    "data_ingestion_artifact = initiate_data_ingestion()"
   ]
  },
  {
   "cell_type": "code",
   "execution_count": 106,
   "metadata": {},
   "outputs": [
    {
     "data": {
      "text/plain": [
       "DataIngestionArtifact(train_file_path='d:\\\\ML Projects\\\\Credit-Card-Default-Prediction\\\\default_prediction\\\\artifact\\\\data_ingestion\\\\2022-07-30-11-31-19\\\\ingested_data\\\\train\\\\cs-training.csv', test_file_path='d:\\\\ML Projects\\\\Credit-Card-Default-Prediction\\\\default_prediction\\\\artifact\\\\data_ingestion\\\\2022-07-30-11-31-19\\\\ingested_data\\\\test\\\\cs-training.csv', is_ingested=True, message='Data Ingestion Completed Successfuly')"
      ]
     },
     "execution_count": 106,
     "metadata": {},
     "output_type": "execute_result"
    }
   ],
   "source": [
    "data_ingestion_artifact"
   ]
  },
  {
   "cell_type": "code",
   "execution_count": null,
   "metadata": {},
   "outputs": [],
   "source": []
  },
  {
   "cell_type": "code",
   "execution_count": 107,
   "metadata": {},
   "outputs": [],
   "source": [
    "def get_dowloaded_data():\n",
    "        try:\n",
    "            download_url = data_ingestion_config.data_download_url\n",
    "\n",
    "            csv_download_dir = data_ingestion_config.csv_download_dir\n",
    "\n",
    "            if os.path.exists(csv_download_dir):\n",
    "                os.remove(csv_download_dir)\n",
    "\n",
    "            os.makedirs(csv_download_dir,exist_ok=True)\n",
    "\n",
    "            csv_file_name = os.path.basename(download_url)\n",
    "\n",
    "            csv_file_path = os.path.join(csv_download_dir,csv_file_name)\n",
    "\n",
    "            urllib.request.urlretrieve(download_url,csv_file_path)\n",
    "\n",
    "            return csv_file_path\n",
    "\n",
    "        except Exception as e:\n",
    "            raise ExceptionHandler(e,sys) from e"
   ]
  },
  {
   "cell_type": "code",
   "execution_count": 109,
   "metadata": {},
   "outputs": [
    {
     "data": {
      "text/plain": [
       "'d:\\\\ML Projects\\\\Credit-Card-Default-Prediction\\\\default_prediction\\\\artifact\\\\data_ingestion\\\\2022-07-30-11-31-19\\\\csv_data\\\\cs-training.csv'"
      ]
     },
     "execution_count": 109,
     "metadata": {},
     "output_type": "execute_result"
    }
   ],
   "source": [
    "csv_file_path "
   ]
  },
  {
   "cell_type": "code",
   "execution_count": 118,
   "metadata": {},
   "outputs": [],
   "source": [
    "def get_raw_csv_data():\n",
    "        try:\n",
    "            raw_data_dir = data_ingestion_config.raw_data_dir\n",
    "\n",
    "            if os.path.exists(raw_data_dir):\n",
    "                os.remove(raw_data_dir)\n",
    "            os.makedirs(raw_data_dir,exist_ok=True)\n",
    "\n",
    "            csv_download_dir = data_ingestion_config.csv_download_dir\n",
    "\n",
    "            download_url = data_ingestion_config.data_download_url\n",
    "\n",
    "            file_name = os.path.basename(download_url)\n",
    "\n",
    "            file_path = os.path.join(raw_data_dir,file_name)\n",
    "\n",
    "            urllib.request.urlretrieve(download_url,file_path)\n",
    "\n",
    "            shutil.copy(file_path,raw_data_dir)\n",
    "\n",
    "            return raw_data_dir\n",
    "\n",
    "        except Exception as e:\n",
    "            raise ExceptionHandler(e,sys) from e"
   ]
  },
  {
   "cell_type": "code",
   "execution_count": 120,
   "metadata": {},
   "outputs": [
    {
     "data": {
      "text/plain": [
       "['cs-training.csv']"
      ]
     },
     "execution_count": 120,
     "metadata": {},
     "output_type": "execute_result"
    }
   ],
   "source": [
    "os.listdir(raw_data_dir)"
   ]
  },
  {
   "cell_type": "code",
   "execution_count": 117,
   "metadata": {},
   "outputs": [
    {
     "data": {
      "text/plain": [
       "'d:\\\\ML Projects\\\\Credit-Card-Default-Prediction\\\\default_prediction\\\\artifact\\\\data_ingestion\\\\2022-07-30-11-31-19\\\\raw_data\\\\cs-training.csv'"
      ]
     },
     "execution_count": 117,
     "metadata": {},
     "output_type": "execute_result"
    }
   ],
   "source": [
    "file_path"
   ]
  },
  {
   "cell_type": "code",
   "execution_count": null,
   "metadata": {},
   "outputs": [],
   "source": []
  }
 ],
 "metadata": {
  "kernelspec": {
   "display_name": "Python 3.8.0",
   "language": "python",
   "name": "python3"
  },
  "language_info": {
   "codemirror_mode": {
    "name": "ipython",
    "version": 3
   },
   "file_extension": ".py",
   "mimetype": "text/x-python",
   "name": "python",
   "nbconvert_exporter": "python",
   "pygments_lexer": "ipython3",
   "version": "3.8.0"
  },
  "orig_nbformat": 4,
  "vscode": {
   "interpreter": {
    "hash": "bbc7d8bd6fe69e20b565b6dc12327123d7f98b0ed9ab65d92a5eba4bda21af70"
   }
  }
 },
 "nbformat": 4,
 "nbformat_minor": 2
}
